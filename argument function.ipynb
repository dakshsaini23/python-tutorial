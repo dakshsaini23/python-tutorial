{
 "cells": [
  {
   "cell_type": "code",
   "execution_count": 2,
   "id": "c374b3a2-948d-4c61-8e6c-2aa6d638fa63",
   "metadata": {},
   "outputs": [],
   "source": [
    "# argument function syntax\n",
    "# def function name (arg1,arg2..): \n",
    "#     logic /statment\n",
    "# function_name(arg1,arg2)"
   ]
  },
  {
   "cell_type": "code",
   "execution_count": 4,
   "id": "00d6c50d-25ed-4771-8a42-e7f5c4993e14",
   "metadata": {},
   "outputs": [
    {
     "name": "stdout",
     "output_type": "stream",
     "text": [
      "the sum is  25\n"
     ]
    }
   ],
   "source": [
    "def addition(a,b):\n",
    "    c=a+b\n",
    "    print(\"the sum is \",c)\n",
    "addition(12,13)"
   ]
  },
  {
   "cell_type": "code",
   "execution_count": 7,
   "id": "650b93e0-0ba6-441c-b90e-19871dd566b8",
   "metadata": {},
   "outputs": [
    {
     "name": "stdin",
     "output_type": "stream",
     "text": [
      "enter the number 34\n",
      "enter the number 23\n"
     ]
    },
    {
     "name": "stdout",
     "output_type": "stream",
     "text": [
      "the sum is  57\n"
     ]
    }
   ],
   "source": [
    "x=int(input(\"enter the number\"))\n",
    "y=int(input(\"enter the number\"))\n",
    "addition(x,y)"
   ]
  },
  {
   "cell_type": "code",
   "execution_count": 8,
   "id": "5cf4793c-2b5f-41c4-a72c-cfd636659d53",
   "metadata": {},
   "outputs": [
    {
     "name": "stdout",
     "output_type": "stream",
     "text": [
      "odd number\n"
     ]
    }
   ],
   "source": [
    "def check(n):\n",
    "    if n%2==0:\n",
    "        print(\"even number\")\n",
    "    else:\n",
    "        print(\"odd number\")\n",
    "check(87)"
   ]
  },
  {
   "cell_type": "code",
   "execution_count": 9,
   "id": "28948fb6-cf7c-4a35-b3be-921d1384b2e6",
   "metadata": {},
   "outputs": [
    {
     "name": "stdout",
     "output_type": "stream",
     "text": [
      "B is greatest\n"
     ]
    }
   ],
   "source": [
    "def largest(a,b,c):\n",
    "    if a>b:\n",
    "        if a>c:\n",
    "            print(\"A is greatest\")\n",
    "        else:\n",
    "            print(\"C is greatest\")\n",
    "    else:\n",
    "        if b>c:\n",
    "            print(\"B is greatest\")\n",
    "        else:\n",
    "            print(\"C is greatest\")\n",
    "largest(23,43,12)"
   ]
  },
  {
   "cell_type": "code",
   "execution_count": 10,
   "id": "af4d50db-a9b2-4242-8055-3742d9e80a11",
   "metadata": {},
   "outputs": [
    {
     "name": "stdout",
     "output_type": "stream",
     "text": [
      "the factorial is 5040\n"
     ]
    }
   ],
   "source": [
    "def factorial(n):\n",
    "    f=1\n",
    "    for i in range(1,n+1):\n",
    "        f=f*i\n",
    "    print(\"the factorial is\",f)\n",
    "factorial(7)"
   ]
  },
  {
   "cell_type": "code",
   "execution_count": 11,
   "id": "e815f60a-aa50-4fda-9ca6-cd2bf22c3083",
   "metadata": {},
   "outputs": [
    {
     "name": "stdout",
     "output_type": "stream",
     "text": [
      "the reverse is 543\n"
     ]
    }
   ],
   "source": [
    "def reverse(n):\n",
    "    rev=0\n",
    "    while n>0:\n",
    "        rev=rev*10+n%10\n",
    "        n=n//10\n",
    "    print(\"the reverse is\",rev)\n",
    "reverse(345)"
   ]
  },
  {
   "cell_type": "code",
   "execution_count": 18,
   "id": "9d12c54b-2f8a-4d41-a928-bb6623108717",
   "metadata": {},
   "outputs": [
    {
     "name": "stdout",
     "output_type": "stream",
     "text": [
      "prime number\n"
     ]
    }
   ],
   "source": [
    "def prime(n):\n",
    "    co=0\n",
    "    for i in range(1,n+1):\n",
    "        if n%i==0:\n",
    "            co=co+1\n",
    "    if co==2:\n",
    "        print(\"prime number\")\n",
    "    else:\n",
    "        print(\"not prime number\")\n",
    "prime(23)"
   ]
  },
  {
   "cell_type": "code",
   "execution_count": null,
   "id": "aca69e52-cf78-4c8f-8138-dd6bc9f8ba25",
   "metadata": {},
   "outputs": [],
   "source": []
  }
 ],
 "metadata": {
  "kernelspec": {
   "display_name": "Python 3 (ipykernel)",
   "language": "python",
   "name": "python3"
  },
  "language_info": {
   "codemirror_mode": {
    "name": "ipython",
    "version": 3
   },
   "file_extension": ".py",
   "mimetype": "text/x-python",
   "name": "python",
   "nbconvert_exporter": "python",
   "pygments_lexer": "ipython3",
   "version": "3.11.7"
  }
 },
 "nbformat": 4,
 "nbformat_minor": 5
}
