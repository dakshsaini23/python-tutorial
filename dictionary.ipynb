{
 "cells": [
  {
   "cell_type": "code",
   "execution_count": 4,
   "id": "5a39e56b-dd40-488a-b3f3-e4a7749ba6c8",
   "metadata": {},
   "outputs": [
    {
     "name": "stdout",
     "output_type": "stream",
     "text": [
      "{'USA': 'WASHINGTON D.C', 'FRANCE': 'PARIS', 'INDIA': 'NEW DELHI'}\n"
     ]
    }
   ],
   "source": [
    "# python-----dictionary\n",
    "# the dictionary is an unordered collection that contains  key:value pairs seprated by commas inside curly brackets. dictionaries are optimized to retreieve values when the key is known.\n",
    "# the following declares a dictionary object\n",
    "# the following declares a dictionary object.\n",
    "capitals={\"USA\":\"WASHINGTON D.C\",\"FRANCE\":\"PARIS\",\"INDIA\":\"NEW DELHI\"}\n",
    "print(capitals)"
   ]
  },
  {
   "cell_type": "code",
   "execution_count": null,
   "id": "fe8c11f0-b2f9-4604-beb3-5f37f366fbb0",
   "metadata": {},
   "outputs": [],
   "source": [
    "the same key cannot appear more  than once in a collection. if the key appears more than once , only the last will be retained, the value can be of any data type one value can be assigned to more"
   ]
  },
  {
   "cell_type": "code",
   "execution_count": 2,
   "id": "a2da3275-4b8a-435c-9956-088f4e4eb300",
   "metadata": {},
   "outputs": [],
   "source": [
    "# a dictionary can also be created using the dict() constructor method. \n",
    "# example: dict() consturctor method"
   ]
  },
  {
   "cell_type": "code",
   "execution_count": 4,
   "id": "78e6ae27-7859-4316-9420-7b54045cb856",
   "metadata": {},
   "outputs": [
    {
     "name": "stdout",
     "output_type": "stream",
     "text": [
      "{}\n"
     ]
    }
   ],
   "source": [
    "emptydict=dict()\n",
    "print(emptydict)"
   ]
  },
  {
   "cell_type": "code",
   "execution_count": 5,
   "id": "f9292101-18be-413f-86c0-25f042fead32",
   "metadata": {},
   "outputs": [
    {
     "name": "stdout",
     "output_type": "stream",
     "text": [
      "{'I': 'one', 'II': 'TWO', 'III': 'THREE'}\n"
     ]
    }
   ],
   "source": [
    "numdict=dict(I=\"one\",II=\"TWO\",III=\"THREE\")\n",
    "print(numdict)"
   ]
  },
  {
   "cell_type": "code",
   "execution_count": 6,
   "id": "1dda11ad-5f78-4654-8519-0e9445ce014e",
   "metadata": {},
   "outputs": [
    {
     "name": "stdout",
     "output_type": "stream",
     "text": [
      "{'I': 'one', 'II': 'two', 'III': 'three'}\n"
     ]
    }
   ],
   "source": [
    "numdict=dict((('I','one'),('II','two'),('III','three')))\n",
    "print(numdict)"
   ]
  },
  {
   "cell_type": "code",
   "execution_count": null,
   "id": "c07436f1-99b5-49ed-9c89-c7c8fcbae1a6",
   "metadata": {},
   "outputs": [],
   "source": [
    "# acesses dictionary---dictionary is an unordered collection , so a value cannot be accessed using as index;index, a key must be specififed in the square brackets , s shown beloww\n"
   ]
  },
  {
   "cell_type": "code",
   "execution_count": 7,
   "id": "820be45b-8de4-4bbe-87af-8e21e478aee2",
   "metadata": {},
   "outputs": [
    {
     "name": "stdout",
     "output_type": "stream",
     "text": [
      "ONE TWO THREE\n"
     ]
    }
   ],
   "source": [
    "numnames={1:\"ONE\",2:\"TWO\",3:\"THREE\"}\n",
    "print(numnames[1],numnames[2],numnames[3],) # output: one two three\n"
   ]
  },
  {
   "cell_type": "code",
   "execution_count": 9,
   "id": "94950dc4-d1f1-4410-99d7-1074adfdf071",
   "metadata": {},
   "outputs": [
    {
     "ename": "KeyError",
     "evalue": "'france'",
     "output_type": "error",
     "traceback": [
      "\u001b[1;31m---------------------------------------------------------------------------\u001b[0m",
      "\u001b[1;31mKeyError\u001b[0m                                  Traceback (most recent call last)",
      "Cell \u001b[1;32mIn[9], line 2\u001b[0m\n\u001b[0;32m      1\u001b[0m capitals\u001b[38;5;241m=\u001b[39m{\u001b[38;5;124m\"\u001b[39m\u001b[38;5;124mUSA\u001b[39m\u001b[38;5;124m\"\u001b[39m:\u001b[38;5;124m\"\u001b[39m\u001b[38;5;124mWASHINGTON DC\u001b[39m\u001b[38;5;124m\"\u001b[39m,\u001b[38;5;124m\"\u001b[39m\u001b[38;5;124mFRANCE\u001b[39m\u001b[38;5;124m\"\u001b[39m:\u001b[38;5;124m\"\u001b[39m\u001b[38;5;124mPARIS\u001b[39m\u001b[38;5;124m\"\u001b[39m,\u001b[38;5;124m\"\u001b[39m\u001b[38;5;124mINDIA\u001b[39m\u001b[38;5;124m\"\u001b[39m:\u001b[38;5;124m\"\u001b[39m\u001b[38;5;124mNEW DELHI\u001b[39m\u001b[38;5;124m\"\u001b[39m}\n\u001b[1;32m----> 2\u001b[0m \u001b[38;5;28mprint\u001b[39m(capitals[\u001b[38;5;124m\"\u001b[39m\u001b[38;5;124mUSA\u001b[39m\u001b[38;5;124m\"\u001b[39m],capitals[\u001b[38;5;124m\"\u001b[39m\u001b[38;5;124mfrance\u001b[39m\u001b[38;5;124m\"\u001b[39m],)\n",
      "\u001b[1;31mKeyError\u001b[0m: 'france'"
     ]
    }
   ],
   "source": [
    "capitals={\"USA\":\"WASHINGTON DC\",\"FRANCE\":\"PARIS\",\"INDIA\":\"NEW DELHI\"}\n",
    "print(capitals[\"USA\"],capitals[\"france\"],)"
   ]
  },
  {
   "cell_type": "code",
   "execution_count": 10,
   "id": "f608793f-1094-4f13-a9ac-f69c733b6c6b",
   "metadata": {},
   "outputs": [
    {
     "name": "stdout",
     "output_type": "stream",
     "text": [
      "one two None\n"
     ]
    }
   ],
   "source": [
    "# use the get() method to retirve the key's value eben if keys are not kniwn it returns none if the key does not exist insed of raising an error\n",
    "x={1:\"one\",2:\"two\",3:\"three\"}\n",
    "print(x.get(1),x.get(2),x.get(4))"
   ]
  },
  {
   "cell_type": "code",
   "execution_count": 12,
   "id": "18cfdebe-19f3-4661-a2e6-75179cc54105",
   "metadata": {},
   "outputs": [
    {
     "name": "stdout",
     "output_type": "stream",
     "text": [
      "{'a': 123, 'b': 345, 'c': 567, 'd': 789}\n",
      "a b c d \n"
     ]
    }
   ],
   "source": [
    "# dictionary through for loop \n",
    "d1={'a':123,'b':345,'c':567,'d':789}\n",
    "print(d1)\n",
    "for i in d1:\n",
    "    print(i,end=\" \")\n",
    "print()"
   ]
  },
  {
   "cell_type": "code",
   "execution_count": 15,
   "id": "725bab05-dcdb-4c75-b884-43d4834eb712",
   "metadata": {},
   "outputs": [
    {
     "name": "stdout",
     "output_type": "stream",
     "text": [
      "123 345 567 789 \n"
     ]
    }
   ],
   "source": [
    "for i in d1.values():\n",
    "    print(i,end=\" \")\n",
    "print()"
   ]
  },
  {
   "cell_type": "code",
   "execution_count": 17,
   "id": "c1417b47-e55a-429b-aa66-9d941bdddab5",
   "metadata": {},
   "outputs": [
    {
     "name": "stdout",
     "output_type": "stream",
     "text": [
      "a b c d "
     ]
    }
   ],
   "source": [
    "for i,j in d1.items():\n",
    "    print(i,end=\" \")"
   ]
  },
  {
   "cell_type": "code",
   "execution_count": 18,
   "id": "63dbb589-dc9a-4604-81a7-d8bbff281bbf",
   "metadata": {},
   "outputs": [],
   "source": [
    "# deleting values from a dictionary----use a del keyword,pop(),or popitem() methods a delete a pair from a dictionary or the dictionary or the dictiomary to delete a dictonary object itself use del"
   ]
  },
  {
   "cell_type": "code",
   "execution_count": 20,
   "id": "749d8ece-734e-48dd-85c0-fe0ba6b25bad",
   "metadata": {},
   "outputs": [
    {
     "name": "stdout",
     "output_type": "stream",
     "text": [
      "{'a': 123, 'b': 567, 'd': 789}\n",
      "{'a': 123, 'd': 789}\n"
     ]
    }
   ],
   "source": [
    "# example:delete a key-value pair \n",
    "d1={'a':123,'b':345,'b':567,'d':789}\n",
    "print(d1)\n",
    "del d1['b']\n",
    "print(d1)"
   ]
  },
  {
   "cell_type": "code",
   "execution_count": 21,
   "id": "e90b284b-263a-4757-b0a7-ceaa384918df",
   "metadata": {},
   "outputs": [
    {
     "name": "stdout",
     "output_type": "stream",
     "text": [
      "345\n",
      "{'a': 123, 'c': 567, 'd': 789}\n"
     ]
    }
   ],
   "source": [
    "d1={'a':123,'b':345,'c':567,'d':789}\n",
    "print(d1.pop('b'))\n",
    "print(d1)"
   ]
  },
  {
   "cell_type": "code",
   "execution_count": 22,
   "id": "5a97c93d-85ad-4ddb-8b5b-ce77b5e2f924",
   "metadata": {},
   "outputs": [
    {
     "ename": "NameError",
     "evalue": "name 'd1' is not defined",
     "output_type": "error",
     "traceback": [
      "\u001b[1;31m---------------------------------------------------------------------------\u001b[0m",
      "\u001b[1;31mNameError\u001b[0m                                 Traceback (most recent call last)",
      "Cell \u001b[1;32mIn[22], line 3\u001b[0m\n\u001b[0;32m      1\u001b[0m d1\u001b[38;5;241m=\u001b[39m{\u001b[38;5;124m'\u001b[39m\u001b[38;5;124ma\u001b[39m\u001b[38;5;124m'\u001b[39m:\u001b[38;5;241m123\u001b[39m,\u001b[38;5;124m'\u001b[39m\u001b[38;5;124mb\u001b[39m\u001b[38;5;124m'\u001b[39m:\u001b[38;5;241m345\u001b[39m,\u001b[38;5;124m'\u001b[39m\u001b[38;5;124mc\u001b[39m\u001b[38;5;124m'\u001b[39m:\u001b[38;5;241m567\u001b[39m,\u001b[38;5;124m'\u001b[39m\u001b[38;5;124md\u001b[39m\u001b[38;5;124m'\u001b[39m:\u001b[38;5;241m789\u001b[39m}\n\u001b[0;32m      2\u001b[0m \u001b[38;5;28;01mdel\u001b[39;00m d1 \u001b[38;5;66;03m# delete complete dictionary\u001b[39;00m\n\u001b[1;32m----> 3\u001b[0m \u001b[38;5;28mprint\u001b[39m(d1)\n",
      "\u001b[1;31mNameError\u001b[0m: name 'd1' is not defined"
     ]
    }
   ],
   "source": [
    "d1={'a':123,'b':345,'c':567,'d':789}\n",
    "del d1 # delete complete dictionary\n",
    "print(d1)"
   ]
  },
  {
   "cell_type": "code",
   "execution_count": 1,
   "id": "9c5eb69a-7fb2-4669-a291-10f0f09e6a30",
   "metadata": {},
   "outputs": [],
   "source": [
    "# multi dimensional dictionary\n",
    "# let's assume there are three dictionary objects , as below:\n",
    "d1={\"name\":\"steve\",\"age\":25,\"marks\":60}\n",
    "d2={\"name\":\"anil\",\"age\":23,\"marks\":75}\n",
    "d3={\"name\":\"asha\",\"age\":20,\"marks\":70}"
   ]
  },
  {
   "cell_type": "code",
   "execution_count": 4,
   "id": "a0d3fec1-191a-4d77-88ba-4ce0538ce8e9",
   "metadata": {},
   "outputs": [
    {
     "name": "stdout",
     "output_type": "stream",
     "text": [
      "{1: {'name': 'steve', 'age': 25, 'marks': 60}, 2: {'name': 'anil', 'age': 23, 'marks': 75}, 3: {'name': 'asha', 'age': 20, 'marks': 70}}\n"
     ]
    }
   ],
   "source": [
    "# example:multi dimensional dictionary\n",
    "student={1:d1,2:d2,3:d3}\n",
    "print(student)"
   ]
  },
  {
   "cell_type": "code",
   "execution_count": 5,
   "id": "5bc41547-9750-4fa4-9537-14a252f620c2",
   "metadata": {},
   "outputs": [
    {
     "name": "stdout",
     "output_type": "stream",
     "text": [
      "{'name': 'steve', 'age': 25, 'marks': 60}\n"
     ]
    }
   ],
   "source": [
    "print(student[1])"
   ]
  },
  {
   "cell_type": "code",
   "execution_count": 6,
   "id": "e535a0a2-fa65-4d8f-8389-a6db6da79e86",
   "metadata": {},
   "outputs": [
    {
     "name": "stdout",
     "output_type": "stream",
     "text": [
      "dictionary: {'I': 1, 'II': 2, 'III': 3, 'IV': 4, 'V': 5}\n"
     ]
    }
   ],
   "source": [
    "# python dictionary clear()----the dict.clear() method removes all the key-value pairs from the dictionary\n",
    "# syntax: dict.clear()\n",
    "romannums={'I':1,'II':2,'III':3,'IV':4,'V':5}\n",
    "print(\"dictionary:\",romannums)\n"
   ]
  },
  {
   "cell_type": "code",
   "execution_count": 7,
   "id": "3783ef1e-63f2-4e49-8104-f7e2e28864c9",
   "metadata": {},
   "outputs": [
    {
     "name": "stdout",
     "output_type": "stream",
     "text": [
      "dictionary after calling clear() method: {}\n"
     ]
    }
   ],
   "source": [
    "romannums.clear()\n",
    "print(\"dictionary after calling clear() method:\",romannums)\n"
   ]
  },
  {
   "cell_type": "code",
   "execution_count": null,
   "id": "78a6af3d-8057-45ab-85b7-e465373db38c",
   "metadata": {},
   "outputs": [],
   "source": [
    "# python dictionary copy()---the dict.copy() method returns a shallow copy of the dictionary \n",
    "# the dictionary can also be copied using the = operator, which points to the same object as the original. so if any change is made in the copied dictionary will also reflect in the original dictionary\n",
    "# syntax----dict.copy()\n"
   ]
  },
  {
   "cell_type": "code",
   "execution_count": 8,
   "id": "184c67a4-b990-46f9-8b46-36fde158b173",
   "metadata": {},
   "outputs": [
    {
     "ename": "SyntaxError",
     "evalue": "incomplete input (3314363080.py, line 1)",
     "output_type": "error",
     "traceback": [
      "\u001b[1;36m  Cell \u001b[1;32mIn[8], line 1\u001b[1;36m\u001b[0m\n\u001b[1;33m    d1={'a':123,'b':345,'c':567,\u001b[0m\n\u001b[1;37m                                ^\u001b[0m\n\u001b[1;31mSyntaxError\u001b[0m\u001b[1;31m:\u001b[0m incomplete input\n"
     ]
    }
   ],
   "source": [
    "d1={'a':123,'b':345,'c':567,\n"
   ]
  },
  {
   "cell_type": "code",
   "execution_count": 10,
   "id": "0b9b1240-23b9-4ee2-af94-ac6ff28f74a5",
   "metadata": {},
   "outputs": [],
   "source": [
    "# python dictionary fromkeys-----the dict fromkeys() method created a new dictionary from the  given iterable (string,list,set,tuple) as keys and with the specified \n",
    "# syntax: dictionary.fromkeys(sequence , value)"
   ]
  },
  {
   "cell_type": "code",
   "execution_count": 16,
   "id": "e834e3c4-c56e-4b23-9b2c-fce176258b1c",
   "metadata": {},
   "outputs": [
    {
     "name": "stdout",
     "output_type": "stream",
     "text": [
      "{'chicago': None, 'banglore': None, 'new york': None, 'mumbai': None}\n"
     ]
    }
   ],
   "source": [
    "keys={'mumbai','banglore','chicago','new york'}\n",
    "dictionary=dict.fromkeys(keys)\n",
    "print(dictionary)"
   ]
  },
  {
   "cell_type": "code",
   "execution_count": 22,
   "id": "856f9e77-a182-4e7c-9a71-5972976c7da5",
   "metadata": {},
   "outputs": [
    {
     "name": "stdout",
     "output_type": "stream",
     "text": [
      "dict_items([('I', 1), ('II', 2), ('III', 3), ('IV', 4)])\n"
     ]
    }
   ],
   "source": [
    "# python dictionary items()\n",
    "# the dict.items() returns a dictionary view object that provides a dynamic view of dictionary elements as a list of key value pairs. this view changes when the dictonary changes.\n",
    "# syntax:dict.items()\n",
    "romanNums={'I':1,'II':2,'III':3,'IV':4}\n",
    "dictview=romanNums.items()\n",
    "print(dictview)"
   ]
  },
  {
   "cell_type": "code",
   "execution_count": 24,
   "id": "a075c112-3041-410b-9282-8bac5687ceb7",
   "metadata": {},
   "outputs": [],
   "source": [
    "# python dictionary keys()\n",
    "#the dict.keys() method returns a dictionary view object that contains the list of keys of the dictonary\n",
    "#  synatx:dict.keys"
   ]
  },
  {
   "cell_type": "code",
   "execution_count": 25,
   "id": "07d1ca55-8942-4363-a5d8-ba9644f0878e",
   "metadata": {},
   "outputs": [],
   "source": [
    "# python dictionary values()\n",
    "# the dict.value method returns tje dictionary view object the provides a dynamic view of all the values in the dictionary. this view object changes when the dictionary \n",
    "# syntax:dict.values()\n",
    "# dict.values()\n"
   ]
  },
  {
   "cell_type": "code",
   "execution_count": 28,
   "id": "6c3cba7a-d64e-4208-ad07-a2a8b43c0b98",
   "metadata": {},
   "outputs": [
    {
     "name": "stdout",
     "output_type": "stream",
     "text": [
      "dict_values([1, 2, 3, 4, 5])\n"
     ]
    }
   ],
   "source": [
    "romanNums={'I':1,'II':2,'III':3,'IV':4,'V':5}\n",
    "value=romanNums.values()\n",
    "print(value)"
   ]
  },
  {
   "cell_type": "code",
   "execution_count": 31,
   "id": "e08ffe3e-8cc4-4814-83e2-abd9b539347b",
   "metadata": {},
   "outputs": [
    {
     "data": {
      "text/plain": [
       "{'a': None, 'd': None, 'c': None, 'b': None}"
      ]
     },
     "execution_count": 31,
     "metadata": {},
     "output_type": "execute_result"
    }
   ],
   "source": [
    "keys={'a','b','c','d'}\n",
    "mydict3=dict.fromkeys(keys)\n",
    "mydict3"
   ]
  },
  {
   "cell_type": "code",
   "execution_count": null,
   "id": "c34ecd27-64d7-4349-bc7f-b11517df7341",
   "metadata": {},
   "outputs": [],
   "source": [
    "keys="
   ]
  }
 ],
 "metadata": {
  "kernelspec": {
   "display_name": "Python 3 (ipykernel)",
   "language": "python",
   "name": "python3"
  },
  "language_info": {
   "codemirror_mode": {
    "name": "ipython",
    "version": 3
   },
   "file_extension": ".py",
   "mimetype": "text/x-python",
   "name": "python",
   "nbconvert_exporter": "python",
   "pygments_lexer": "ipython3",
   "version": "3.11.7"
  }
 },
 "nbformat": 4,
 "nbformat_minor": 5
}
