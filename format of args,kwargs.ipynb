{
 "cells": [
  {
   "cell_type": "markdown",
   "id": "4a269f3a-8767-4032-89ad-80755e5ccb16",
   "metadata": {},
   "source": [
    "1  unpacking operators are operators that unpack the values from iterable objects in python\n",
    "2  the single asterisk operator* can be used on any iterable that puthon provides \n",
    "3  while the double aestrick operator** can only be used on dictionaries "
   ]
  },
  {
   "cell_type": "code",
   "execution_count": 1,
   "id": "2f6d6496-207d-45a1-8667-a3f15982e4ed",
   "metadata": {},
   "outputs": [],
   "source": [
    "u=[1,2,3]"
   ]
  },
  {
   "cell_type": "code",
   "execution_count": 2,
   "id": "b304e135-75dd-47aa-bf66-d45a7131ea89",
   "metadata": {},
   "outputs": [
    {
     "data": {
      "text/plain": [
       "[1, 2, 3]"
      ]
     },
     "execution_count": 2,
     "metadata": {},
     "output_type": "execute_result"
    }
   ],
   "source": [
    "u"
   ]
  },
  {
   "cell_type": "code",
   "execution_count": 3,
   "id": "5e9fcb98-fbfd-455c-b013-4993f83a9c16",
   "metadata": {},
   "outputs": [
    {
     "name": "stdout",
     "output_type": "stream",
     "text": [
      "1 2 3\n"
     ]
    }
   ],
   "source": [
    "print(*u)"
   ]
  },
  {
   "cell_type": "code",
   "execution_count": 5,
   "id": "31b77d14-af16-487a-8fe6-838845668670",
   "metadata": {},
   "outputs": [],
   "source": [
    "a,*b,c=[1,2,3,2,3,4,5,6,78,63,4]"
   ]
  },
  {
   "cell_type": "code",
   "execution_count": 8,
   "id": "c4b6a07a-883b-46c1-8b3f-de10df902ff9",
   "metadata": {},
   "outputs": [
    {
     "data": {
      "text/plain": [
       "[2, 3, 2, 3, 4, 5, 6, 78, 63]"
      ]
     },
     "execution_count": 8,
     "metadata": {},
     "output_type": "execute_result"
    }
   ],
   "source": [
    "b"
   ]
  },
  {
   "cell_type": "code",
   "execution_count": 9,
   "id": "5c5c793d-6007-4f2d-8118-62767f714e84",
   "metadata": {},
   "outputs": [
    {
     "data": {
      "text/plain": [
       "[[1, 2, 3], [4, 5, 6]]"
      ]
     },
     "execution_count": 9,
     "metadata": {},
     "output_type": "execute_result"
    }
   ],
   "source": [
    "A=[1,2,3]\n",
    "B=[4,5,6]\n",
    "C=[A,B]\n",
    "C"
   ]
  },
  {
   "cell_type": "code",
   "execution_count": 10,
   "id": "029fd3bd-bef5-4e2a-ae4c-7c88e071a1dd",
   "metadata": {},
   "outputs": [
    {
     "data": {
      "text/plain": [
       "[1, 2, 3, 4, 5, 6]"
      ]
     },
     "execution_count": 10,
     "metadata": {},
     "output_type": "execute_result"
    }
   ],
   "source": [
    "D=[*A,*B]\n",
    "D"
   ]
  },
  {
   "cell_type": "code",
   "execution_count": 11,
   "id": "8c3b052f-da95-430c-bb4a-edf4ba7ea536",
   "metadata": {},
   "outputs": [
    {
     "data": {
      "text/plain": [
       "[1, 2, 3, 4, 5, 6]"
      ]
     },
     "execution_count": 11,
     "metadata": {},
     "output_type": "execute_result"
    }
   ],
   "source": [
    "A.extend(B)\n",
    "A"
   ]
  },
  {
   "cell_type": "code",
   "execution_count": 12,
   "id": "d4c3dec9-c12e-48a2-a31c-eeb9af259260",
   "metadata": {},
   "outputs": [
    {
     "data": {
      "text/plain": [
       "['r', 'e', 'a', 'l', 'p', 'y', 't', 'h', 'o', 'n']"
      ]
     },
     "execution_count": 12,
     "metadata": {},
     "output_type": "execute_result"
    }
   ],
   "source": [
    "a=[*\"realpython\"]\n",
    "a\n"
   ]
  },
  {
   "cell_type": "code",
   "execution_count": 13,
   "id": "7af56fa3-4684-4032-9444-5e0b410a9a22",
   "metadata": {},
   "outputs": [],
   "source": [
    "d1={\"A\":1,\"B\":2}\n",
    "d2={\"C\":3,\"D\":4,\"F\":7}"
   ]
  },
  {
   "cell_type": "code",
   "execution_count": 14,
   "id": "b734d37a-a4a8-4355-967f-222ca0f1b9ff",
   "metadata": {},
   "outputs": [],
   "source": [
    "d1.update(d2)"
   ]
  },
  {
   "cell_type": "code",
   "execution_count": 15,
   "id": "e0d7a83a-43ae-49a7-8abe-d0ba7cad96c9",
   "metadata": {},
   "outputs": [
    {
     "data": {
      "text/plain": [
       "{'A': 1, 'B': 2, 'C': 3, 'D': 4, 'F': 7}"
      ]
     },
     "execution_count": 15,
     "metadata": {},
     "output_type": "execute_result"
    }
   ],
   "source": [
    "d1"
   ]
  },
  {
   "cell_type": "code",
   "execution_count": 16,
   "id": "1a3086b8-adf3-4f94-8b85-fded66ba96af",
   "metadata": {},
   "outputs": [],
   "source": [
    "def my_sum(a,b,c,d,e):\n",
    "    return(a+b+c+d+e)"
   ]
  },
  {
   "cell_type": "code",
   "execution_count": 17,
   "id": "86b1f42a-f554-486c-8985-5cf3c681375b",
   "metadata": {},
   "outputs": [],
   "source": [
    "def my_sum(*a):\n",
    "    result=0\n",
    "    for i in a:\n",
    "        result=result+i\n",
    "    return result"
   ]
  },
  {
   "cell_type": "code",
   "execution_count": 18,
   "id": "e80cdd1f-6015-4ef8-a6ca-47e23f2075b6",
   "metadata": {},
   "outputs": [
    {
     "data": {
      "text/plain": [
       "45"
      ]
     },
     "execution_count": 18,
     "metadata": {},
     "output_type": "execute_result"
    }
   ],
   "source": [
    "list1=[1,2,3]\n",
    "list2=[4,5]\n",
    "list3=[6,7,8,9]\n",
    "my_sum(*list1,*list2,*list3)"
   ]
  },
  {
   "cell_type": "code",
   "execution_count": 19,
   "id": "6432ba35-4e6d-41bc-b51a-a54823e1eb7c",
   "metadata": {},
   "outputs": [],
   "source": [
    "a=[\"john\",\"peter\",\"nishant\"]\n",
    "b=[\"jenny\",\"ashwin\"]"
   ]
  },
  {
   "cell_type": "code",
   "execution_count": 20,
   "id": "72a22384-e7a6-4bf0-b584-8fecde8301b4",
   "metadata": {},
   "outputs": [
    {
     "data": {
      "text/plain": [
       "[('john', 'jenny'), ('peter', 'ashwin')]"
      ]
     },
     "execution_count": 20,
     "metadata": {},
     "output_type": "execute_result"
    }
   ],
   "source": [
    "list(zip(a,b))"
   ]
  },
  {
   "cell_type": "code",
   "execution_count": 21,
   "id": "c817bde6-c967-45db-aaca-59d5de516be9",
   "metadata": {},
   "outputs": [],
   "source": [
    "a=\"bushan\"\n",
    "b=\"hassanjhghfgfdft\""
   ]
  },
  {
   "cell_type": "code",
   "execution_count": 22,
   "id": "448fb511-85b3-4ef3-b1eb-5324b8fd74c7",
   "metadata": {},
   "outputs": [
    {
     "data": {
      "text/plain": [
       "[('b', 'h'), ('u', 'a'), ('s', 's'), ('h', 's'), ('a', 'a'), ('n', 'n')]"
      ]
     },
     "execution_count": 22,
     "metadata": {},
     "output_type": "execute_result"
    }
   ],
   "source": [
    "list(zip(a,b))"
   ]
  },
  {
   "cell_type": "code",
   "execution_count": 25,
   "id": "a399717b-6498-4874-828f-2a8aec1be925",
   "metadata": {},
   "outputs": [
    {
     "data": {
      "text/plain": [
       "{(1, 'one'), (2, 'two'), (3, 'three')}"
      ]
     },
     "execution_count": 25,
     "metadata": {},
     "output_type": "execute_result"
    }
   ],
   "source": [
    "number_list=[1,2,3,3]\n",
    "str_list=['one','two','three','three']\n",
    "result=list(zip(number_list,str_list))\n",
    "set(result)"
   ]
  },
  {
   "cell_type": "code",
   "execution_count": 29,
   "id": "637eaec0-8885-47c9-b025-bb8066582a1b",
   "metadata": {},
   "outputs": [
    {
     "ename": "NameError",
     "evalue": "name 'numberslist' is not defined",
     "output_type": "error",
     "traceback": [
      "\u001b[1;31m---------------------------------------------------------------------------\u001b[0m",
      "\u001b[1;31mNameError\u001b[0m                                 Traceback (most recent call last)",
      "Cell \u001b[1;32mIn[29], line 5\u001b[0m\n\u001b[0;32m      2\u001b[0m str_list\u001b[38;5;241m=\u001b[39m[\u001b[38;5;124m'\u001b[39m\u001b[38;5;124mone\u001b[39m\u001b[38;5;124m'\u001b[39m,\u001b[38;5;124m'\u001b[39m\u001b[38;5;124mtwo\u001b[39m\u001b[38;5;124m'\u001b[39m]\n\u001b[0;32m      3\u001b[0m number_tuple\u001b[38;5;241m=\u001b[39m(\u001b[38;5;124m'\u001b[39m\u001b[38;5;124mone\u001b[39m\u001b[38;5;124m'\u001b[39m,\u001b[38;5;124m'\u001b[39m\u001b[38;5;124mtwo\u001b[39m\u001b[38;5;124m'\u001b[39m,\u001b[38;5;124m'\u001b[39m\u001b[38;5;124mthree\u001b[39m\u001b[38;5;124m'\u001b[39m,\u001b[38;5;124m'\u001b[39m\u001b[38;5;124mfour\u001b[39m\u001b[38;5;124m'\u001b[39m)\n\u001b[1;32m----> 5\u001b[0m result\u001b[38;5;241m=\u001b[39m\u001b[38;5;28mzip\u001b[39m(numberslist,number_tuple)\n\u001b[0;32m      6\u001b[0m \u001b[38;5;28mprint\u001b[39m(\u001b[38;5;28mlist\u001b[39m(result))\n",
      "\u001b[1;31mNameError\u001b[0m: name 'numberslist' is not defined"
     ]
    }
   ],
   "source": [
    "numberlist=[1,2,3]\n",
    "str_list=['one','two']\n",
    "number_tuple=('one','two','three','four')\n",
    "\n",
    "result=zip(numberslist,number_tuple)\n",
    "print(list(result))"
   ]
  },
  {
   "cell_type": "code",
   "execution_count": 30,
   "id": "44c9754e-2062-483a-be41-10b99b7dbf24",
   "metadata": {},
   "outputs": [
    {
     "name": "stdout",
     "output_type": "stream",
     "text": [
      "[('x', [3, 4, 5])]\n"
     ]
    }
   ],
   "source": [
    "coordinate=['x','y','z']\n",
    "value=[[3,4,5]]\n",
    "result=zip(coordinate,value)\n",
    "result_list=list(result)\n",
    "print(result_list)\n",
    "c,v=zip(*result_list)"
   ]
  },
  {
   "cell_type": "code",
   "execution_count": 31,
   "id": "7c586216-fdea-429d-8d99-4c9070c2b178",
   "metadata": {},
   "outputs": [
    {
     "data": {
      "text/plain": [
       "('x',)"
      ]
     },
     "execution_count": 31,
     "metadata": {},
     "output_type": "execute_result"
    }
   ],
   "source": [
    "c"
   ]
  },
  {
   "cell_type": "code",
   "execution_count": 32,
   "id": "7bf55008-aa9a-48b2-bdf3-c3dc809547ea",
   "metadata": {},
   "outputs": [
    {
     "data": {
      "text/plain": [
       "([3, 4, 5],)"
      ]
     },
     "execution_count": 32,
     "metadata": {},
     "output_type": "execute_result"
    }
   ],
   "source": [
    " v"
   ]
  },
  {
   "cell_type": "code",
   "execution_count": null,
   "id": "7a3724ba-fc17-436b-8789-53ac10c2e350",
   "metadata": {},
   "outputs": [],
   "source": []
  }
 ],
 "metadata": {
  "kernelspec": {
   "display_name": "Python 3 (ipykernel)",
   "language": "python",
   "name": "python3"
  },
  "language_info": {
   "codemirror_mode": {
    "name": "ipython",
    "version": 3
   },
   "file_extension": ".py",
   "mimetype": "text/x-python",
   "name": "python",
   "nbconvert_exporter": "python",
   "pygments_lexer": "ipython3",
   "version": "3.11.7"
  }
 },
 "nbformat": 4,
 "nbformat_minor": 5
}
