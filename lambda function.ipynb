{
 "cells": [
  {
   "cell_type": "markdown",
   "id": "db13ffda-daf5-4ca6-849d-6b3172c671ca",
   "metadata": {},
   "source": [
    "lambda function-- it helps to perform codes in only line"
   ]
  },
  {
   "cell_type": "code",
   "execution_count": 5,
   "id": "271f7484-98a6-42e2-b61f-22ca05f5370a",
   "metadata": {},
   "outputs": [
    {
     "data": {
      "text/plain": [
       "1010"
      ]
     },
     "execution_count": 5,
     "metadata": {},
     "output_type": "execute_result"
    }
   ],
   "source": [
    "x=lambda a : a+10 \n",
    "x(1000)"
   ]
  },
  {
   "cell_type": "code",
   "execution_count": 6,
   "id": "2d3b1d8c-62b5-452d-b362-228722ad60e4",
   "metadata": {},
   "outputs": [
    {
     "data": {
      "text/plain": [
       "60"
      ]
     },
     "execution_count": 6,
     "metadata": {},
     "output_type": "execute_result"
    }
   ],
   "source": [
    "z=lambda a,b,c:a+b+c\n",
    "z(10,20,30)"
   ]
  },
  {
   "cell_type": "code",
   "execution_count": 7,
   "id": "c2ce4d08-0e13-4f3d-93f9-ae04287441f8",
   "metadata": {},
   "outputs": [
    {
     "data": {
      "text/plain": [
       "12"
      ]
     },
     "execution_count": 7,
     "metadata": {},
     "output_type": "execute_result"
    }
   ],
   "source": [
    "a=lambda x:x+2\n",
    "a(10)"
   ]
  },
  {
   "cell_type": "code",
   "execution_count": 4,
   "id": "2b371455-8797-4726-8198-f640d758cbf5",
   "metadata": {},
   "outputs": [
    {
     "data": {
      "text/plain": [
       "386953"
      ]
     },
     "execution_count": 4,
     "metadata": {},
     "output_type": "execute_result"
    }
   ],
   "source": [
    "ismail=lambda a,b,c:a+b*c\n",
    "ismail(7339,838,453)\n"
   ]
  },
  {
   "cell_type": "code",
   "execution_count": 16,
   "id": "009b5e91-5357-49c4-b97c-21060b84363c",
   "metadata": {},
   "outputs": [
    {
     "data": {
      "text/plain": [
       "64"
      ]
     },
     "execution_count": 16,
     "metadata": {},
     "output_type": "execute_result"
    }
   ],
   "source": [
    "a=lambda x :x*2 if x%2==0 else x\n",
    "a(32)"
   ]
  },
  {
   "cell_type": "markdown",
   "id": "a6d3682d-ded1-460d-8820-e0e38f555a73",
   "metadata": {},
   "source": [
    "# map \n",
    "syntax: map(fun,iter)\n",
    "parameters \n",
    "fun: it is a function to which map passes each element of givenn iterable\n",
    "iter: it is iterable which is to be mapped"
   ]
  },
  {
   "cell_type": "code",
   "execution_count": 17,
   "id": "9ba5e15d-35a5-49ba-88c6-dc980cea9228",
   "metadata": {},
   "outputs": [],
   "source": [
    "number=[1,2,3,4]"
   ]
  },
  {
   "cell_type": "code",
   "execution_count": 18,
   "id": "4137b280-8d9a-4125-a1bb-a40aa4230dd4",
   "metadata": {},
   "outputs": [
    {
     "data": {
      "text/plain": [
       "[2, 4, 6, 8]"
      ]
     },
     "execution_count": 18,
     "metadata": {},
     "output_type": "execute_result"
    }
   ],
   "source": [
    "list(map(lambda x: x+x,[1,2,3,4]))"
   ]
  },
  {
   "cell_type": "code",
   "execution_count": 22,
   "id": "d1b3ea9a-3003-4463-8758-5b6f882e9a8b",
   "metadata": {},
   "outputs": [
    {
     "data": {
      "text/plain": [
       "[24, 46, 68, 112]"
      ]
     },
     "execution_count": 22,
     "metadata": {},
     "output_type": "execute_result"
    }
   ],
   "source": [
    "def addition(n):\n",
    "    return(n*2)\n",
    "number=[12,23,34,56]\n",
    "list(map(addition,number))"
   ]
  },
  {
   "cell_type": "code",
   "execution_count": 24,
   "id": "805ae4d3-a309-4dfb-bcf2-c0b6ab5fdd4f",
   "metadata": {},
   "outputs": [
    {
     "data": {
      "text/plain": [
       "[6, 10, 13]"
      ]
     },
     "execution_count": 24,
     "metadata": {},
     "output_type": "execute_result"
    }
   ],
   "source": [
    "numbers1=[1,2,3]\n",
    "numbers2=[4,5,6]\n",
    "numbers3=[1,3,4]\n",
    "result=map(lambda x,y,z:x+y+z, numbers1,numbers2,numbers3)\n",
    "list(result)"
   ]
  },
  {
   "cell_type": "code",
   "execution_count": 25,
   "id": "7ad31676-e549-4d3c-84f6-f1a70f3db8e0",
   "metadata": {},
   "outputs": [
    {
     "data": {
      "text/plain": [
       "['ALFRED', 'TABITHA', 'WILLIAM', 'ARLA']"
      ]
     },
     "execution_count": 25,
     "metadata": {},
     "output_type": "execute_result"
    }
   ],
   "source": [
    "my_pets=['alfred','tabitha','william','arla']\n",
    "list(map(lambda x: x.upper(),my_pets))\n"
   ]
  },
  {
   "cell_type": "code",
   "execution_count": 29,
   "id": "6f0ce6c1-3f3d-4037-9de6-0d9c2e8255f7",
   "metadata": {},
   "outputs": [
    {
     "name": "stdout",
     "output_type": "stream",
     "text": [
      "['ALFRED', 'TABITHA', 'WILLIAM', 'ARLA']\n"
     ]
    }
   ],
   "source": [
    "my_pets=['alfred','tabitha','william','arla']\n",
    "new=[]\n",
    "for i in my_pets:\n",
    "    new.append(i.upper())\n",
    "print(new)"
   ]
  },
  {
   "cell_type": "code",
   "execution_count": 32,
   "id": "0b572eda-d9ae-4b77-bfaa-0baba2e102ea",
   "metadata": {},
   "outputs": [
    {
     "data": {
      "text/plain": [
       "[(1, 'axx'), (2, 'byy'), (3, 'czz'), (4, 'dww'), (5, 'edd')]"
      ]
     },
     "execution_count": 32,
     "metadata": {},
     "output_type": "execute_result"
    }
   ],
   "source": [
    "my_strings=['a','b','c','d','e']\n",
    "my_numbers=[1,2,3,4,5]\n",
    "my_name=['xx','yy','zz','ww','dd']\n",
    "results=list(map(lambda x,y,z:(y,x+z),my_strings,my_numbers,my_name))\n",
    "list(results)"
   ]
  },
  {
   "cell_type": "markdown",
   "id": "d43c5749-a63e-41b7-aec2-d3cbfb16e14c",
   "metadata": {},
   "source": [
    "# filter\n",
    "syntax: filter(function,iterable)\n",
    "filter()method return an iterator that passed the function check for each element in the iterable"
   ]
  },
  {
   "cell_type": "code",
   "execution_count": 33,
   "id": "15c1610f-9719-4651-834f-2a5e0d777faf",
   "metadata": {},
   "outputs": [
    {
     "data": {
      "text/plain": [
       "['madam', 'anutforajaroftuna']"
      ]
     },
     "execution_count": 33,
     "metadata": {},
     "output_type": "execute_result"
    }
   ],
   "source": [
    "dromes=(\"demigod\",\"rewire\",\"madam\",\"freer\",\"anutforajaroftuna\",\"kiosk\")\n",
    "palindromes=list(filter(lambda a:a==a[::-1],dromes))\n",
    "palindromes"
   ]
  },
  {
   "cell_type": "code",
   "execution_count": 34,
   "id": "8075bd0a-6fe6-4c3a-99ff-f47ccf8be4c6",
   "metadata": {},
   "outputs": [
    {
     "data": {
      "text/plain": [
       "'hsukna'"
      ]
     },
     "execution_count": 34,
     "metadata": {},
     "output_type": "execute_result"
    }
   ],
   "source": [
    "a=\"ankush\"\n",
    "a[::-1]"
   ]
  },
  {
   "cell_type": "code",
   "execution_count": 3,
   "id": "05864109-1a0b-44ca-a416-4faeba899be5",
   "metadata": {},
   "outputs": [
    {
     "name": "stdout",
     "output_type": "stream",
     "text": [
      "[4, 6, 8, 12]\n",
      "[5, 7, 97, 77, 23, 73, 61]\n"
     ]
    }
   ],
   "source": [
    "my_list=[1,5,4,6,8,11,3,12]\n",
    "new_list=list(filter(lambda x:(x%2==0),my_list))\n",
    "print(new_list)\n",
    "li=[5,7,22,97,54,62,77,23,73,61]\n",
    "final_list=list(filter(lambda x:(x%2 !=0),li))\n",
    "print(final_list)"
   ]
  },
  {
   "cell_type": "code",
   "execution_count": 5,
   "id": "4245196c-81c9-47b0-a7d8-310d2e6a73f1",
   "metadata": {},
   "outputs": [
    {
     "name": "stdout",
     "output_type": "stream",
     "text": [
      "['one']\n",
      "['88', '99', '102']\n"
     ]
    }
   ],
   "source": [
    "list3=['one','two2','three3','88','99','102']\n",
    "numeric=list(filter(lambda x:x.isnumeric(),list3))\n",
    "alpha=list(filter(lambda x:x.isalpha(),list3))\n",
    "alphanum=list(filter(lambda x:x.isalnum(),list3))\n",
    "print(alpha)\n",
    "print(numeric)"
   ]
  },
  {
   "cell_type": "code",
   "execution_count": 7,
   "id": "cb8af5bd-9fd4-4701-82d4-0790e6a2b1dc",
   "metadata": {},
   "outputs": [
    {
     "data": {
      "text/plain": [
       "[90, 76, 88, 81]"
      ]
     },
     "execution_count": 7,
     "metadata": {},
     "output_type": "execute_result"
    }
   ],
   "source": [
    "scores=[66,90,68,59,76,60,88,74,81,65]\n",
    "def is_student(score):\n",
    "    return score>75\n",
    "over_75=list(filter(is_student,scores))\n",
    "over_75"
   ]
  },
  {
   "cell_type": "code",
   "execution_count": null,
   "id": "cda361e9-ae46-4993-95b9-18719663fd80",
   "metadata": {},
   "outputs": [],
   "source": []
  }
 ],
 "metadata": {
  "kernelspec": {
   "display_name": "Python 3 (ipykernel)",
   "language": "python",
   "name": "python3"
  },
  "language_info": {
   "codemirror_mode": {
    "name": "ipython",
    "version": 3
   },
   "file_extension": ".py",
   "mimetype": "text/x-python",
   "name": "python",
   "nbconvert_exporter": "python",
   "pygments_lexer": "ipython3",
   "version": "3.11.7"
  }
 },
 "nbformat": 4,
 "nbformat_minor": 5
}
