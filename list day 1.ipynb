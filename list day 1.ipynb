{
 "cells": [
  {
   "cell_type": "code",
   "execution_count": null,
   "id": "a38a5fea-3b1e-4e3d-8646-14908a4265bb",
   "metadata": {},
   "outputs": [],
   "source": [
    "# list is [sequence data structure , heterogeneous , ordered or indexed , mutable , enclosed in [] (\"square brackets\")\n",
    "ls=[12,13,14,15,16,17,18,19] #list of integers\n",
    "ls=['a','b','c','d','e'] # list of chars or string\n",
    "ls=[12.13,56.76] # list of flloat\n",
    "ls=[12,23,24,34,56,67,78,\"hello\"] # list of mixed type"
   ]
  },
  {
   "cell_type": "code",
   "execution_count": 1,
   "id": "8690a836-a480-4bd2-8207-99ea7580e510",
   "metadata": {},
   "outputs": [
    {
     "name": "stdout",
     "output_type": "stream",
     "text": [
      "['h', 'e', 'l', 'l', 'o']\n"
     ]
    }
   ],
   "source": [
    "# we can maeke list by using list conductor\n",
    "ls=list(\"hello\")\n",
    "print(ls)"
   ]
  },
  {
   "cell_type": "code",
   "execution_count": 8,
   "id": "16c03ad5-fb78-4b7f-ac7f-f148d6b89be3",
   "metadata": {},
   "outputs": [
    {
     "name": "stdout",
     "output_type": "stream",
     "text": [
      "[12, 23, 22, 45]\n"
     ]
    }
   ],
   "source": [
    "ls=list((12,23,22,45))\n",
    "print(ls)"
   ]
  },
  {
   "cell_type": "code",
   "execution_count": 9,
   "id": "d4e867f8-b91b-4367-a096-fde429d0dc59",
   "metadata": {},
   "outputs": [
    {
     "name": "stdout",
     "output_type": "stream",
     "text": [
      "1\n",
      "4\n",
      "[2, 4, 5]\n"
     ]
    }
   ],
   "source": [
    "ls=[1,2,3,4,5,6,[2,4,5],11,[2]] # nested list\n",
    "print(ls[0])\n",
    "print(ls[3])\n",
    "print(ls[-3])"
   ]
  },
  {
   "cell_type": "code",
   "execution_count": 10,
   "id": "6de71211-12b6-4bfb-8b33-33154a9d77ef",
   "metadata": {},
   "outputs": [
    {
     "name": "stdout",
     "output_type": "stream",
     "text": [
      "56\n"
     ]
    }
   ],
   "source": [
    "ls=[12,23,34,45,56,[45,56,67,78,[67.54,343]],5,[89]]\n",
    "print(ls[4])"
   ]
  },
  {
   "cell_type": "code",
   "execution_count": 20,
   "id": "9c6af74b-0f29-4a31-9aff-50e703f51081",
   "metadata": {},
   "outputs": [
    {
     "name": "stdout",
     "output_type": "stream",
     "text": [
      "54\n"
     ]
    }
   ],
   "source": [
    "ls=[12,23,34,45,56,[45,56,67,78,[67,54,343]],5,[89]]\n",
    "print(ls[5][4][1])"
   ]
  },
  {
   "cell_type": "code",
   "execution_count": 24,
   "id": "d35c8833-96c6-438c-bcca-0dd147452c90",
   "metadata": {},
   "outputs": [
    {
     "name": "stdout",
     "output_type": "stream",
     "text": [
      "[45, 56, 67, 78, 89]\n",
      "[12, 23, 34, 45, 56, 67, 78, 89]\n",
      "[45, 56, 67, 78, 89, 98, 87]\n",
      "[12, 23, 34, 45, 56, 67, 78, 89, 98, 87]\n"
     ]
    }
   ],
   "source": [
    "# slicing concept \":\"\n",
    "ls [3:8] # 3 4 5 6 7 \n",
    "ls[:8]   # from the begining \n",
    "ls[3:]  # start from 3 end to the last\n",
    "ls[:] # from the begining to last \n",
    "\n",
    "ls=[12,23,34,45,56,67,78,89,98,87]\n",
    "print(ls[3:8])\n",
    "print(ls[:8])\n",
    "print(ls[3:])\n",
    "print(ls[:])"
   ]
  },
  {
   "cell_type": "code",
   "execution_count": 26,
   "id": "7c58adec-552e-4e9d-9ab1-eb9c406dcfd3",
   "metadata": {},
   "outputs": [
    {
     "name": "stdout",
     "output_type": "stream",
     "text": [
      "[12, 23, 34, 45, 56, 67]\n",
      "[12, 23, 'hello', 45, 56, 67]\n"
     ]
    }
   ],
   "source": [
    "# updation\n",
    "ls=[12,23,34,45,56,67]\n",
    "print(ls)\n",
    "ls[2]=\"hello\"\n",
    "print(ls)"
   ]
  },
  {
   "cell_type": "code",
   "execution_count": 27,
   "id": "5724346a-0ae6-4e52-aac8-43ecf7f8449e",
   "metadata": {},
   "outputs": [
    {
     "name": "stdout",
     "output_type": "stream",
     "text": [
      "[12, 23, 34, 45, 56, 67]\n",
      "[12, 23, 34, 'how', 'are', 'you']\n"
     ]
    }
   ],
   "source": [
    "ls=[12,23,34,45,56,67]\n",
    "print(ls)\n",
    "ls[3:6]=[\"how\",\"are\",\"you\"]\n",
    "print(ls)"
   ]
  },
  {
   "cell_type": "code",
   "execution_count": 30,
   "id": "ff2c5513-f7f5-4465-83b9-84ea9c7d5ae3",
   "metadata": {},
   "outputs": [
    {
     "name": "stdout",
     "output_type": "stream",
     "text": [
      "[12, 23, 45, 56, 67, 78, 89, 98, 87]\n",
      "[12, 23, 45, 67, 78, 89, 98, 87]\n"
     ]
    }
   ],
   "source": [
    "# delete an element from the list ( del---2 ways , pop---2 ways,remove---1)\n",
    "# del method 1st way is used for deleting single index\n",
    "ls=[12,23,45,56,67,78,89,98,87]\n",
    "print(ls)\n",
    "del ls[3]\n",
    "print(ls)"
   ]
  },
  {
   "cell_type": "code",
   "execution_count": 33,
   "id": "59b46598-29cf-4bd1-ac41-8b44825d6674",
   "metadata": {},
   "outputs": [
    {
     "name": "stdout",
     "output_type": "stream",
     "text": [
      "[12, 23, 45, 56, 67, 78, 89, 98, 87]\n",
      "[12, 23, 45, 89, 98, 87]\n"
     ]
    }
   ],
   "source": [
    "# 2nd way del method is used for slicing delete or deleting multiple index\n",
    "ls=[12,23,45,56,67,78,89,98,87]\n",
    "print(ls)\n",
    "del ls[3:6]\n",
    "print(ls)"
   ]
  },
  {
   "cell_type": "code",
   "execution_count": 36,
   "id": "dc6cbab2-954e-4fd4-a76a-bd256b28e1ce",
   "metadata": {},
   "outputs": [
    {
     "name": "stdout",
     "output_type": "stream",
     "text": [
      "[12, 23, 45, 56, 67, 78, 89, 98, 87]\n",
      "[12, 23, 45, 67, 78, 89, 98, 87]\n"
     ]
    }
   ],
   "source": [
    "# pop 1st way is used to delete single index ls=[12,23,45,56,67,78,89,98,87]\n",
    "print(ls)\n",
    "ls.pop(3)\n",
    "print(ls)"
   ]
  },
  {
   "cell_type": "code",
   "execution_count": 38,
   "id": "61bac9e5-6325-487a-a48e-790a681b2105",
   "metadata": {},
   "outputs": [
    {
     "name": "stdout",
     "output_type": "stream",
     "text": [
      "[12, 23, 45, 56, 67, 78, 89, 90]\n",
      "[12, 23, 45, 56, 67, 78, 89]\n",
      "[12, 23, 45, 56, 67, 78]\n",
      "[12, 23, 45, 56, 67, 78]\n"
     ]
    }
   ],
   "source": [
    "ls=[12,23,45,56,67,78,89,90]\n",
    "print(ls)\n",
    "ls.pop()\n",
    "print(ls)\n",
    "ls.pop()\n",
    "print(ls)\n",
    "ls.pop\n",
    "print(ls)"
   ]
  },
  {
   "cell_type": "code",
   "execution_count": null,
   "id": "1cf906cb-e6a5-405f-a365-30b6dbddac6b",
   "metadata": {},
   "outputs": [],
   "source": []
  }
 ],
 "metadata": {
  "kernelspec": {
   "display_name": "Python 3 (ipykernel)",
   "language": "python",
   "name": "python3"
  },
  "language_info": {
   "codemirror_mode": {
    "name": "ipython",
    "version": 3
   },
   "file_extension": ".py",
   "mimetype": "text/x-python",
   "name": "python",
   "nbconvert_exporter": "python",
   "pygments_lexer": "ipython3",
   "version": "3.11.7"
  }
 },
 "nbformat": 4,
 "nbformat_minor": 5
}
