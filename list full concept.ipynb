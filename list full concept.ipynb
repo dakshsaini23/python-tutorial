{
 "cells": [
  {
   "cell_type": "code",
   "execution_count": null,
   "id": "a38a5fea-3b1e-4e3d-8646-14908a4265bb",
   "metadata": {},
   "outputs": [],
   "source": [
    "# list is [sequence data structure , heterogeneous , ordered or indexed , mutable , enclosed in [] (\"square brackets\")\n",
    "ls=[12,13,14,15,16,17,18,19] #list of integers\n",
    "ls=['a','b','c','d','e'] # list of chars or string\n",
    "ls=[12.13,56.76] # list of flloat\n",
    "ls=[12,23,24,34,56,67,78,\"hello\"] # list of mixed type"
   ]
  },
  {
   "cell_type": "code",
   "execution_count": 1,
   "id": "8690a836-a480-4bd2-8207-99ea7580e510",
   "metadata": {},
   "outputs": [
    {
     "name": "stdout",
     "output_type": "stream",
     "text": [
      "['h', 'e', 'l', 'l', 'o']\n"
     ]
    }
   ],
   "source": [
    "# we can maeke list by using list conductor\n",
    "ls=list(\"hello\")\n",
    "print(ls)"
   ]
  },
  {
   "cell_type": "code",
   "execution_count": 8,
   "id": "16c03ad5-fb78-4b7f-ac7f-f148d6b89be3",
   "metadata": {},
   "outputs": [
    {
     "name": "stdout",
     "output_type": "stream",
     "text": [
      "[12, 23, 22, 45]\n"
     ]
    }
   ],
   "source": [
    "ls=list((12,23,22,45))\n",
    "print(ls)"
   ]
  },
  {
   "cell_type": "code",
   "execution_count": 9,
   "id": "d4e867f8-b91b-4367-a096-fde429d0dc59",
   "metadata": {},
   "outputs": [
    {
     "name": "stdout",
     "output_type": "stream",
     "text": [
      "1\n",
      "4\n",
      "[2, 4, 5]\n"
     ]
    }
   ],
   "source": [
    "ls=[1,2,3,4,5,6,[2,4,5],11,[2]] # nested list\n",
    "print(ls[0])\n",
    "print(ls[3])\n",
    "print(ls[-3])"
   ]
  },
  {
   "cell_type": "code",
   "execution_count": 10,
   "id": "6de71211-12b6-4bfb-8b33-33154a9d77ef",
   "metadata": {},
   "outputs": [
    {
     "name": "stdout",
     "output_type": "stream",
     "text": [
      "56\n"
     ]
    }
   ],
   "source": [
    "ls=[12,23,34,45,56,[45,56,67,78,[67.54,343]],5,[89]]\n",
    "print(ls[4])"
   ]
  },
  {
   "cell_type": "code",
   "execution_count": 20,
   "id": "9c6af74b-0f29-4a31-9aff-50e703f51081",
   "metadata": {},
   "outputs": [
    {
     "name": "stdout",
     "output_type": "stream",
     "text": [
      "54\n"
     ]
    }
   ],
   "source": [
    "ls=[12,23,34,45,56,[45,56,67,78,[67,54,343]],5,[89]]\n",
    "print(ls[5][4][1])"
   ]
  },
  {
   "cell_type": "code",
   "execution_count": 24,
   "id": "d35c8833-96c6-438c-bcca-0dd147452c90",
   "metadata": {},
   "outputs": [
    {
     "name": "stdout",
     "output_type": "stream",
     "text": [
      "[45, 56, 67, 78, 89]\n",
      "[12, 23, 34, 45, 56, 67, 78, 89]\n",
      "[45, 56, 67, 78, 89, 98, 87]\n",
      "[12, 23, 34, 45, 56, 67, 78, 89, 98, 87]\n"
     ]
    }
   ],
   "source": [
    "# slicing concept \":\"\n",
    "ls [3:8] # 3 4 5 6 7 \n",
    "ls[:8]   # from the begining \n",
    "ls[3:]  # start from 3 end to the last\n",
    "ls[:] # from the begining to last \n",
    "\n",
    "ls=[12,23,34,45,56,67,78,89,98,87]\n",
    "print(ls[3:8])\n",
    "print(ls[:8])\n",
    "print(ls[3:])\n",
    "print(ls[:])"
   ]
  },
  {
   "cell_type": "code",
   "execution_count": 26,
   "id": "7c58adec-552e-4e9d-9ab1-eb9c406dcfd3",
   "metadata": {},
   "outputs": [
    {
     "name": "stdout",
     "output_type": "stream",
     "text": [
      "[12, 23, 34, 45, 56, 67]\n",
      "[12, 23, 'hello', 45, 56, 67]\n"
     ]
    }
   ],
   "source": [
    "# updation\n",
    "ls=[12,23,34,45,56,67]\n",
    "print(ls)\n",
    "ls[2]=\"hello\"\n",
    "print(ls)"
   ]
  },
  {
   "cell_type": "code",
   "execution_count": 27,
   "id": "5724346a-0ae6-4e52-aac8-43ecf7f8449e",
   "metadata": {},
   "outputs": [
    {
     "name": "stdout",
     "output_type": "stream",
     "text": [
      "[12, 23, 34, 45, 56, 67]\n",
      "[12, 23, 34, 'how', 'are', 'you']\n"
     ]
    }
   ],
   "source": [
    "ls=[12,23,34,45,56,67]\n",
    "print(ls)\n",
    "ls[3:6]=[\"how\",\"are\",\"you\"]\n",
    "print(ls)"
   ]
  },
  {
   "cell_type": "code",
   "execution_count": 30,
   "id": "ff2c5513-f7f5-4465-83b9-84ea9c7d5ae3",
   "metadata": {},
   "outputs": [
    {
     "name": "stdout",
     "output_type": "stream",
     "text": [
      "[12, 23, 45, 56, 67, 78, 89, 98, 87]\n",
      "[12, 23, 45, 67, 78, 89, 98, 87]\n"
     ]
    }
   ],
   "source": [
    "# delete an element from the list ( del---2 ways , pop---2 ways,remove---1)\n",
    "# del method 1st way is used for deleting single index\n",
    "ls=[12,23,45,56,67,78,89,98,87]\n",
    "print(ls)\n",
    "del ls[3]\n",
    "print(ls)"
   ]
  },
  {
   "cell_type": "code",
   "execution_count": 33,
   "id": "59b46598-29cf-4bd1-ac41-8b44825d6674",
   "metadata": {},
   "outputs": [
    {
     "name": "stdout",
     "output_type": "stream",
     "text": [
      "[12, 23, 45, 56, 67, 78, 89, 98, 87]\n",
      "[12, 23, 45, 89, 98, 87]\n"
     ]
    }
   ],
   "source": [
    "# 2nd way del method is used for slicing delete or deleting multiple index\n",
    "ls=[12,23,45,56,67,78,89,98,87]\n",
    "print(ls)\n",
    "del ls[3:6]\n",
    "print(ls)"
   ]
  },
  {
   "cell_type": "code",
   "execution_count": 40,
   "id": "dc6cbab2-954e-4fd4-a76a-bd256b28e1ce",
   "metadata": {},
   "outputs": [
    {
     "name": "stdout",
     "output_type": "stream",
     "text": [
      "[12, 23, 45, 56, 67, 78, 89, 98, 87]\n",
      "[12, 23, 45, 67, 78, 89, 98, 87]\n"
     ]
    }
   ],
   "source": [
    "# pop 1st way is used to delete single index \n",
    "ls=[12,23,45,56,67,78,89,98,87]\n",
    "print(ls)\n",
    "ls.pop(3)\n",
    "print(ls)"
   ]
  },
  {
   "cell_type": "code",
   "execution_count": 39,
   "id": "61bac9e5-6325-487a-a48e-790a681b2105",
   "metadata": {},
   "outputs": [
    {
     "name": "stdout",
     "output_type": "stream",
     "text": [
      "[12, 23, 45, 56, 67, 78, 89, 90]\n",
      "[12, 23, 45, 56, 67, 78, 89]\n",
      "[12, 23, 45, 56, 67, 78]\n",
      "[12, 23, 45, 56, 67, 78]\n"
     ]
    }
   ],
   "source": [
    "# pop 2nd way is used to delete last element by default\n",
    "ls=[12,23,45,56,67,78,89,90]\n",
    "print(ls)\n",
    "ls.pop()\n",
    "print(ls)\n",
    "ls.pop()\n",
    "print(ls)\n",
    "ls.pop\n",
    "print(ls)"
   ]
  },
  {
   "cell_type": "code",
   "execution_count": 3,
   "id": "1cf906cb-e6a5-405f-a365-30b6dbddac6b",
   "metadata": {},
   "outputs": [
    {
     "name": "stdout",
     "output_type": "stream",
     "text": [
      "[12, 13, 14, 15, 16, 17, 18]\n",
      "[12, 13, 14, 15, 17, 18]\n"
     ]
    }
   ],
   "source": [
    "# remove function deletes the value without the requirement of index \n",
    "ls=[12,13,14,15,16,17,18]\n",
    "print(ls)\n",
    "ls.remove(16)\n",
    "print(ls)"
   ]
  },
  {
   "cell_type": "code",
   "execution_count": null,
   "id": "3db03b37-c11d-418f-8c02-f1547187fbb3",
   "metadata": {},
   "outputs": [],
   "source": [
    "# list methods \n",
    "append()\n",
    "extend()\n",
    "insert()\n",
    "copy()\n",
    "clear()\n",
    "count()\n",
    "index()\n",
    "sort()\n",
    "reverse()\n",
    "max()\n",
    "min()\n",
    "sum()"
   ]
  },
  {
   "cell_type": "code",
   "execution_count": 4,
   "id": "49f2696d-ce64-47b1-8559-32c007d9b5ee",
   "metadata": {},
   "outputs": [
    {
     "name": "stdout",
     "output_type": "stream",
     "text": [
      "[12, 13, 14, 15, 16, 17, 18, 19]\n",
      "[12, 13, 14, 15, 16, 17, 18, 19, 98]\n"
     ]
    }
   ],
   "source": [
    "# append function---- it helps in inserting an element in the list at the end\n",
    "# syntax----- ls.append(element)\n",
    "ls=[12,13,14,15,16,17,18,19]\n",
    "print(ls)\n",
    "ls.append(98)\n",
    "print(ls)"
   ]
  },
  {
   "cell_type": "code",
   "execution_count": 8,
   "id": "1075ce93-5a35-4472-b1e8-fcd7ad4e404e",
   "metadata": {},
   "outputs": [
    {
     "name": "stdout",
     "output_type": "stream",
     "text": [
      "[12, 13, 14, 15, 16, 17, 18, 19]\n",
      "[12, 13, 14, 15, 16, 17, 18, 19, ['hello', 'how', 'are']]\n"
     ]
    }
   ],
   "source": [
    "# append function as nested list \n",
    "ls=[12,13,14,15,16,17,18,19]\n",
    "print(ls)\n",
    "ls.append([\"hello\",\"how\",\"are\"])\n",
    "print(ls)"
   ]
  },
  {
   "cell_type": "code",
   "execution_count": 15,
   "id": "a0f29e03-42c7-46bc-a331-bda7fbc10e38",
   "metadata": {},
   "outputs": [
    {
     "name": "stdin",
     "output_type": "stream",
     "text": [
      "enter the number 34\n",
      "enter the number 34\n",
      "enter the number 34\n",
      "enter the number 45\n",
      "enter the number 34\n",
      "enter the number 45\n",
      "enter the number 34\n",
      "enter the number 4\n",
      "enter the number 5\n",
      "enter the number 34\n"
     ]
    },
    {
     "name": "stdout",
     "output_type": "stream",
     "text": [
      "[34, 34, 34, 45, 34, 45, 34, 4, 5, 34]\n"
     ]
    }
   ],
   "source": [
    "# make the list of 10 integers of your choice\n",
    "ls=[]\n",
    "for i in range(10):\n",
    "    n=int(input(\"enter the number\"))\n",
    "    ls.append(n)\n",
    "print(ls)\n"
   ]
  },
  {
   "cell_type": "code",
   "execution_count": 16,
   "id": "a914b381-dd59-4bd5-b2f5-012cbeebd811",
   "metadata": {},
   "outputs": [
    {
     "name": "stdin",
     "output_type": "stream",
     "text": [
      "enter the number 34\n",
      "enter the number 50\n",
      "enter the number 10\n",
      "enter the number 67\n",
      "enter the number 43\n"
     ]
    },
    {
     "name": "stdout",
     "output_type": "stream",
     "text": [
      "[34, 50, 10, 67, 43]\n",
      "the sum of list is  204\n"
     ]
    }
   ],
   "source": [
    "# sum of the list of 5 integers of your choice \n",
    "ls=[]\n",
    "for i in range(5):\n",
    "    n=int(input(\"enter the number\"))\n",
    "    ls.append(n)\n",
    "print(ls)\n",
    "print(\"the sum of list is \",sum(ls))"
   ]
  },
  {
   "cell_type": "code",
   "execution_count": 17,
   "id": "30e09128-789e-463f-8ed7-312771ed2581",
   "metadata": {},
   "outputs": [
    {
     "name": "stdout",
     "output_type": "stream",
     "text": [
      "the sum is 204\n"
     ]
    }
   ],
   "source": [
    "# sum logic behind ----sum(ls)\n",
    "s=0\n",
    "for i in ls:\n",
    "    s=s+i\n",
    "print(\"the sum is\",s)"
   ]
  },
  {
   "cell_type": "code",
   "execution_count": 21,
   "id": "ee6fcebc-c27c-43f2-8d87-0c6469025003",
   "metadata": {},
   "outputs": [
    {
     "name": "stdout",
     "output_type": "stream",
     "text": [
      "original list [0, 1, 2, 3, 4, 5, 6, 7, 8, 9, 10, 11, 12, 13, 14, 15, 16, 17, 18, 19, 20, 21, 22, 23, 24, 25, 26, 27, 28, 29, 30, 31, 32, 33, 34, 35, 36, 37, 38, 39, 40, 41, 42, 43, 44, 45, 46, 47, 48, 49]\n",
      "even list [0, 2, 4, 6, 8, 10, 12, 14, 16, 18, 20, 22, 24, 26, 28, 30, 32, 34, 36, 38, 40, 42, 44, 46, 48]\n",
      "odd list [1, 3, 5, 7, 9, 11, 13, 15, 17, 19, 21, 23, 25, 27, 29, 31, 33, 35, 37, 39, 41, 43, 45, 47, 49]\n"
     ]
    }
   ],
   "source": [
    "# separation of odd numbers and even numbers from list\n",
    "ls=[]\n",
    "ls_e=[]\n",
    "ls_o=[]\n",
    "for i in range(50):\n",
    "    ls.append(i)\n",
    "print(\"original list\",ls)\n",
    "for i in ls:\n",
    "    if i%2==0:\n",
    "        ls_e.append(i)\n",
    "    else:\n",
    "        ls_o.append(i)\n",
    "print(\"even list\",ls_e)\n",
    "print(\"odd list\",ls_o)"
   ]
  },
  {
   "cell_type": "code",
   "execution_count": 23,
   "id": "575ef056-7668-4782-a056-a55cd50b3c29",
   "metadata": {},
   "outputs": [
    {
     "name": "stdin",
     "output_type": "stream",
     "text": [
      "enter the number 34\n",
      "enter the number 54\n",
      "enter the number 34\n",
      "enter the number 45\n",
      "enter the number 65\n"
     ]
    },
    {
     "name": "stdout",
     "output_type": "stream",
     "text": [
      "[34, 54, 34, 45, 65]\n",
      "max element is 65\n"
     ]
    }
   ],
   "source": [
    "# FIND THE MAXIMUM ELEMENT IN THE LIST\n",
    "ls=[]\n",
    "for i in range(5):\n",
    "    n=int(input(\"enter the number\"))\n",
    "    ls.append(n)\n",
    "print(ls)\n",
    "print(\"max element is\",max(ls))"
   ]
  },
  {
   "cell_type": "code",
   "execution_count": 26,
   "id": "1e6a24ff-646e-4e75-91e9-71f0772f274e",
   "metadata": {},
   "outputs": [
    {
     "name": "stdout",
     "output_type": "stream",
     "text": [
      "maximum is 65\n"
     ]
    }
   ],
   "source": [
    "# LOGIC BEHIND MAX FUNCTION\n",
    "large=ls[0]\n",
    "for i in ls:\n",
    "    if i>large:\n",
    "        large=i\n",
    "print(\"maximum is\",large)"
   ]
  },
  {
   "cell_type": "code",
   "execution_count": 4,
   "id": "7f960d77-56fa-45e9-b35b-76d25d3523f3",
   "metadata": {},
   "outputs": [
    {
     "name": "stdout",
     "output_type": "stream",
     "text": [
      "[12, 23, 34, 45, 56, 67, 78, 89, 98, 76, 65, 43]\n",
      "[12, 23, 34, 45, 56, 67, 78, 89, 98, 76, 65, 43, 21, 23, 34]\n"
     ]
    }
   ],
   "source": [
    "# extend function------it is used to enter more than one element in the list , the elements are always inserted at the end list \n",
    "# syntax----ls.extend(iter)\n",
    "ls=[12,23,34,45,56,67,78,89,98,76,65,43]\n",
    "print(ls)\n",
    "ls.extend([21,23,34])\n",
    "print(ls)"
   ]
  },
  {
   "cell_type": "code",
   "execution_count": 5,
   "id": "ba604717-9a3e-4d00-b387-a80eda3d2c27",
   "metadata": {},
   "outputs": [
    {
     "name": "stdout",
     "output_type": "stream",
     "text": [
      "[1, 3, 4, 5, 7, 8, 2, 4, 6, 8, 10]\n"
     ]
    }
   ],
   "source": [
    "# concatenate----\n",
    "A=[1,3,4,5,7,8]\n",
    "B=[2,4,6,8,10]\n",
    "c=A+B\n",
    "print(c)"
   ]
  },
  {
   "cell_type": "code",
   "execution_count": 6,
   "id": "c0f84f08-98f5-4b51-8164-97dd10f571ce",
   "metadata": {},
   "outputs": [
    {
     "name": "stdout",
     "output_type": "stream",
     "text": [
      "[1, 3, 5, 7, 9, 2, 4, 6, 8, 10]\n"
     ]
    }
   ],
   "source": [
    "A=[1,3,5,7,9]\n",
    "B=[2,4,6,8,10]\n",
    "A.extend(B)\n",
    "print(A)"
   ]
  },
  {
   "cell_type": "code",
   "execution_count": 2,
   "id": "9091eba8-9e52-408a-936a-112324b8866a",
   "metadata": {},
   "outputs": [
    {
     "name": "stdout",
     "output_type": "stream",
     "text": [
      "[12, 23, 34, 56, 67, 78]\n",
      "[12, 23, 34, 'daksh', 56, 67, 78]\n"
     ]
    }
   ],
   "source": [
    "# insert----- it is used to insert one element at a time in the list but you can insert the element at desired index\n",
    "\n",
    "ls=[12,23,34,56,67,78]\n",
    "print(ls)\n",
    "ls.insert(3,\"daksh\")\n",
    "print(ls)"
   ]
  },
  {
   "cell_type": "code",
   "execution_count": 4,
   "id": "3ad70755-64b0-453b-89e0-30a37ac3f8e6",
   "metadata": {},
   "outputs": [
    {
     "name": "stdout",
     "output_type": "stream",
     "text": [
      "[12, 45, 23, 12, 54, 43, 12, 5, 3, 12]\n",
      "4\n"
     ]
    }
   ],
   "source": [
    "# count------ it returns the frquency of the element in the list\n",
    "ls=[12,45,23,12,54,43,12,5,3,12]\n",
    "print(ls)\n",
    "x=ls.count(12)\n",
    "print(x)"
   ]
  },
  {
   "cell_type": "code",
   "execution_count": 5,
   "id": "a50cbedc-1d10-40c4-b8df-e85f5f24a95b",
   "metadata": {},
   "outputs": [
    {
     "name": "stdout",
     "output_type": "stream",
     "text": [
      "[12, 23, 45, 32, 45, 12, 324, 35, 23, 12]\n",
      "12 = 3\n",
      "23 = 2\n",
      "45 = 2\n",
      "32 = 1\n",
      "45 = 2\n",
      "12 = 3\n",
      "324 = 1\n",
      "35 = 1\n",
      "23 = 2\n",
      "12 = 3\n"
     ]
    }
   ],
   "source": [
    "ls=[12,23,45,32,45,12,324,35,23,12]\n",
    "print(ls)\n",
    "for i in ls:\n",
    "    x=ls.count(i)\n",
    "    print(i,\"=\",x)"
   ]
  },
  {
   "cell_type": "code",
   "execution_count": 11,
   "id": "713ae051-d077-45c0-b1eb-97b2451fce34",
   "metadata": {},
   "outputs": [
    {
     "name": "stdout",
     "output_type": "stream",
     "text": [
      "23 = 2\n",
      "34 = 1\n",
      "45 = 2\n",
      "56 = 1\n",
      "66 = 1\n",
      "78 = 1\n",
      "99 = 2\n",
      "67 = 1\n",
      "the original list [23, 34, 45, 56, 66, 78, 99, 23, 45, 67, 99]\n",
      "unique list [23, 34, 45, 56, 66, 78, 99, 67]\n"
     ]
    }
   ],
   "source": [
    "new=[]\n",
    "ls=[23,34,45,56,66,78,99,23,45,67,99]\n",
    "for i in ls:\n",
    "    if i not in new:\n",
    "        new.append(i)\n",
    "        x=ls.count(i)\n",
    "        print(i,\"=\",x)\n",
    "print(\"the original list\",ls)\n",
    "print(\"unique list\",new)"
   ]
  },
  {
   "cell_type": "code",
   "execution_count": 12,
   "id": "c79a413f-a196-4828-bf07-4faac80834fa",
   "metadata": {},
   "outputs": [
    {
     "name": "stdout",
     "output_type": "stream",
     "text": [
      "[12, 34, 54, 56, 21, 45, 87, 45]\n",
      "[45, 87, 45, 21, 56, 54, 34, 12]\n"
     ]
    }
   ],
   "source": [
    "# reverse()------ it is used to print list in reverse order.\n",
    "ls=[12,34,54,56,21,45,87,45]\n",
    "print(ls)\n",
    "ls.reverse()\n",
    "print(ls)"
   ]
  },
  {
   "cell_type": "code",
   "execution_count": 14,
   "id": "281da677-8881-402c-b13a-351405ffceb6",
   "metadata": {},
   "outputs": [
    {
     "name": "stdout",
     "output_type": "stream",
     "text": [
      "[12, 23, 21, 3, 45, 43, 65, 56, 87, 45]\n",
      "[3, 12, 21, 23, 43, 45, 45, 56, 65, 87]\n",
      "[87, 65, 56, 45, 45, 43, 23, 21, 12, 3]\n"
     ]
    }
   ],
   "source": [
    "# sort()------ it is used to arrange elements in ascending or desendiing order by default always ascending\n",
    "ls=[12,23,21,3,45,43,65,56,87,45]\n",
    "print(ls)\n",
    "ls.sort()\n",
    "print(ls)\n",
    "ls.sort(reverse=True)\n",
    "print(ls)"
   ]
  },
  {
   "cell_type": "code",
   "execution_count": 15,
   "id": "216da2d0-ee45-4669-ac86-f0c68765cda2",
   "metadata": {},
   "outputs": [
    {
     "name": "stdout",
     "output_type": "stream",
     "text": [
      "[12, 23, 34, 45, 56, 67, 23]\n",
      "1\n"
     ]
    }
   ],
   "source": [
    "# index()------it return the index of the first occurrence of element\n",
    "ls=[12,23,34,45,56,67,23]\n",
    "print(ls)\n",
    "x=ls.index(23)\n",
    "print(x)"
   ]
  },
  {
   "cell_type": "code",
   "execution_count": 18,
   "id": "b4876c00-9213-4e4d-992c-797da1d41318",
   "metadata": {},
   "outputs": [
    {
     "name": "stdout",
     "output_type": "stream",
     "text": [
      "[12, 23, 34, 45, 56, 67]\n",
      "[12, 23, 34, 45, 56, 67]\n",
      "[12, 23, 34, 45, 56, 67]\n",
      "[12, 23, 34, 'hello', 56, 67]\n"
     ]
    }
   ],
   "source": [
    "# copy()------- if we copy a list into another by using equal operator if we change any element in the list then it will reflect in another use \n",
    "ls=[12,23,34,45,56,67]\n",
    "ls1=ls.copy()\n",
    "print(ls)\n",
    "print(ls1)\n",
    "ls1[3]=\"hello\"\n",
    "print(ls)\n",
    "print(ls1)\n"
   ]
  },
  {
   "cell_type": "code",
   "execution_count": 19,
   "id": "b53902a2-8d60-4982-bb9a-1af6d4297b75",
   "metadata": {},
   "outputs": [
    {
     "name": "stdout",
     "output_type": "stream",
     "text": [
      "[23, 335, 24, 54, 34, 345, 45]\n",
      "[]\n"
     ]
    }
   ],
   "source": [
    "# clear()------ it return empty list\n",
    "ls=[23,335,24,54,34,345,45]\n",
    "print(ls)\n",
    "ls.clear()\n",
    "print(ls)"
   ]
  },
  {
   "cell_type": "code",
   "execution_count": null,
   "id": "8ff3bbfc-5a56-4cb7-8c73-78a5cc92a07a",
   "metadata": {},
   "outputs": [],
   "source": []
  }
 ],
 "metadata": {
  "kernelspec": {
   "display_name": "Python 3 (ipykernel)",
   "language": "python",
   "name": "python3"
  },
  "language_info": {
   "codemirror_mode": {
    "name": "ipython",
    "version": 3
   },
   "file_extension": ".py",
   "mimetype": "text/x-python",
   "name": "python",
   "nbconvert_exporter": "python",
   "pygments_lexer": "ipython3",
   "version": "3.11.7"
  }
 },
 "nbformat": 4,
 "nbformat_minor": 5
}
