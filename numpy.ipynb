{
 "cells": [
  {
   "cell_type": "code",
   "execution_count": 1,
   "id": "4dfc5a40-eec8-4f3c-a722-71a615d8815b",
   "metadata": {},
   "outputs": [],
   "source": [
    "import numpy as np"
   ]
  },
  {
   "cell_type": "code",
   "execution_count": 3,
   "id": "a8b69faf-ef78-438e-a63b-d944ed42cad5",
   "metadata": {},
   "outputs": [
    {
     "name": "stdout",
     "output_type": "stream",
     "text": [
      "[1. 2. 3.]\n"
     ]
    }
   ],
   "source": [
    "x=[1,2,3]\n",
    "a=np.asarray(x,dtype=float)\n",
    "print(a)"
   ]
  },
  {
   "cell_type": "code",
   "execution_count": 4,
   "id": "0eec9004-f45c-4d26-a1b9-8639ee8e8ed7",
   "metadata": {},
   "outputs": [
    {
     "ename": "SyntaxError",
     "evalue": "unterminated string literal (detected at line 2) (1815479447.py, line 2)",
     "output_type": "error",
     "traceback": [
      "\u001b[1;36m  Cell \u001b[1;32mIn[4], line 2\u001b[1;36m\u001b[0m\n\u001b[1;33m    x=(1,2,3)'\u001b[0m\n\u001b[1;37m             ^\u001b[0m\n\u001b[1;31mSyntaxError\u001b[0m\u001b[1;31m:\u001b[0m unterminated string literal (detected at line 2)\n"
     ]
    }
   ],
   "source": [
    "# ndarray from tuple\n",
    "x=(1,2,3)'\n",
    "a=np.asarray(x)\n",
    "print(a)"
   ]
  },
  {
   "cell_type": "code",
   "execution_count": 5,
   "id": "f20c8291-a4d4-4500-aac7-5e95575c94d7",
   "metadata": {},
   "outputs": [],
   "source": [
    "# create matrix  in numpy\n",
    "# in numpy, we use the np.array() function to create a matrix. for example,"
   ]
  },
  {
   "cell_type": "code",
   "execution_count": 10,
   "id": "8449fd7a-5d32-4be2-a11d-4aa837672bfa",
   "metadata": {},
   "outputs": [
    {
     "name": "stdout",
     "output_type": "stream",
     "text": [
      "2x2 matrix:\n",
      " [[1 3]\n",
      " [5 7]]\n"
     ]
    }
   ],
   "source": [
    "matrix1=np.array([[1,3],[5,7]])\n",
    "print(\"2x2 matrix:\\n\",matrix1)"
   ]
  },
  {
   "cell_type": "code",
   "execution_count": 1,
   "id": "8967c8fd-030a-4ba6-9e64-661fd6bcaee0",
   "metadata": {},
   "outputs": [],
   "source": [
    "# perform matrix multiplication in numpy\n",
    "# we use the np.dot() function to perform multiplication between two matrices \n",
    "# the number of columns of first matrix and the number of rows of second matrix then multiplication is possible"
   ]
  },
  {
   "cell_type": "code",
   "execution_count": 2,
   "id": "f33c85e9-a4d4-41ef-b8a5-3a10e22ac6e2",
   "metadata": {},
   "outputs": [],
   "source": [
    "import numpy as np"
   ]
  },
  {
   "cell_type": "code",
   "execution_count": 3,
   "id": "ce1c20c2-4457-47e6-8b67-dec0bb697b27",
   "metadata": {},
   "outputs": [],
   "source": [
    "# create two matrices "
   ]
  },
  {
   "cell_type": "code",
   "execution_count": 6,
   "id": "b07abfa5-9551-47b4-8561-503bc115ab2c",
   "metadata": {},
   "outputs": [
    {
     "name": "stdout",
     "output_type": "stream",
     "text": [
      "matrix1 x matrix2:\n",
      " [[14 30]\n",
      " [38 86]]\n"
     ]
    }
   ],
   "source": [
    "matrix1=np.array([[1,3],[5,7]])\n",
    "matrix2=np.array([[2,6],[4,8]])\n",
    "result=np.dot(matrix1,matrix2)\n",
    "print(\"matrix1 x matrix2:\\n\",result)"
   ]
  },
  {
   "cell_type": "code",
   "execution_count": 8,
   "id": "a3e17f20-31a1-4be3-8207-719ddcff8f34",
   "metadata": {},
   "outputs": [
    {
     "name": "stdout",
     "output_type": "stream",
     "text": [
      "[[1 3]\n",
      " [5 7]]\n",
      "\n"
     ]
    }
   ],
   "source": [
    "# CREATE A MATRIX\n",
    "matrix1=np.array([[1,3],[5,7]])\n",
    "print(matrix1)\n",
    "print()"
   ]
  },
  {
   "cell_type": "code",
   "execution_count": 9,
   "id": "595314a0-8c77-4a7f-81c1-5021a2a01337",
   "metadata": {},
   "outputs": [
    {
     "name": "stdout",
     "output_type": "stream",
     "text": [
      "[[1 5]\n",
      " [3 7]]\n"
     ]
    }
   ],
   "source": [
    "# get transpose of matrix1 ( for conversion of rows to column)\n",
    "result=np.transpose(matrix1)\n",
    "print(result)"
   ]
  },
  {
   "cell_type": "code",
   "execution_count": 10,
   "id": "ec50ef30-cad7-4a58-8a20-b08e31c24d0e",
   "metadata": {},
   "outputs": [
    {
     "name": "stdout",
     "output_type": "stream",
     "text": [
      "[3 5 7]\n",
      "\n",
      "[5 7 9]\n",
      "\n",
      "[3 5 7 5 7 9]\n"
     ]
    }
   ],
   "source": [
    "# numpy.hstack function---horizantally stack numpy arrays using numpy.hstack()\n",
    "import numpy as np\n",
    "x=np.array((3,5,7))\n",
    "print(x)\n",
    "print()\n",
    "y=np.array((5,7,9))\n",
    "print(y)\n",
    "print()\n",
    "print(np.hstack((x,y)))"
   ]
  },
  {
   "cell_type": "code",
   "execution_count": 11,
   "id": "68bbfd7f-77ee-4f2e-ba9e-99c3f93f23a5",
   "metadata": {},
   "outputs": [
    {
     "name": "stdout",
     "output_type": "stream",
     "text": [
      "[[3]\n",
      " [5]\n",
      " [7]]\n",
      "\n",
      "[[5]\n",
      " [7]\n",
      " [9]]\n",
      "\n",
      "[[3 5]\n",
      " [5 7]\n",
      " [7 9]]\n"
     ]
    }
   ],
   "source": [
    "x=np.array([[3],[5],[7]])\n",
    "print(x)\n",
    "print()\n",
    "y=np.array([[5],[7],[9]])\n",
    "print(y)\n",
    "print()\n",
    "print(np.hstack((x,y)))"
   ]
  },
  {
   "cell_type": "code",
   "execution_count": 12,
   "id": "500a4bbb-e4bc-460d-8246-020d88696464",
   "metadata": {},
   "outputs": [
    {
     "name": "stdout",
     "output_type": "stream",
     "text": [
      "[3 5 7]\n",
      "\n",
      "[5 7 9]\n",
      "\n",
      "[[3 5 7]\n",
      " [5 7 9]]\n"
     ]
    }
   ],
   "source": [
    "x=np.array((3,5,7))\n",
    "print(x)\n",
    "print()\n",
    "y=np.array((5,7,9))\n",
    "print(y)\n",
    "print()\n",
    "print(np.vstack((x,y)))"
   ]
  },
  {
   "cell_type": "code",
   "execution_count": 13,
   "id": "437742af-3198-439e-b29e-242598b2fe3b",
   "metadata": {},
   "outputs": [
    {
     "name": "stdout",
     "output_type": "stream",
     "text": [
      "[[3]\n",
      " [5]\n",
      " [7]]\n",
      "\n",
      "[[5]\n",
      " [7]\n",
      " [9]]\n",
      "\n",
      "[[3]\n",
      " [5]\n",
      " [7]\n",
      " [5]\n",
      " [7]\n",
      " [9]]\n"
     ]
    }
   ],
   "source": [
    "x=np.array([[3],[5],[7]])\n",
    "print(x)\n",
    "print()\n",
    "y=np.array([[5],[7],[9]])\n",
    "print(y)\n",
    "print()\n",
    "print(np.vstack((x,y)))"
   ]
  },
  {
   "cell_type": "markdown",
   "id": "6c7c9f10-4762-4fb6-8e95-2e00843054e2",
   "metadata": {},
   "source": [
    "# numpy.arrange\n",
    "this function returns an ndarray object containing evenly spaced values within a given range"
   ]
  },
  {
   "cell_type": "code",
   "execution_count": 15,
   "id": "24a2fa8d-3fd6-4778-8a93-d6d66db0f8b7",
   "metadata": {},
   "outputs": [
    {
     "name": "stdout",
     "output_type": "stream",
     "text": [
      "[ 0  1  2  3  4  5  6  7  8  9 10 11 12 13 14 15 16 17 18 19 20 21 22 23]\n"
     ]
    }
   ],
   "source": [
    "#  an array of evenly spaced numbers\n",
    "import numpy as np\n",
    "a=np.arange(24)\n",
    "print(a)"
   ]
  },
  {
   "cell_type": "code",
   "execution_count": 17,
   "id": "464a47e4-b4b1-4d14-b3a7-1b85f8523887",
   "metadata": {},
   "outputs": [
    {
     "data": {
      "text/plain": [
       "1"
      ]
     },
     "execution_count": 17,
     "metadata": {},
     "output_type": "execute_result"
    }
   ],
   "source": [
    "# this is dimensional array\n",
    "import numpy as np\n",
    "a=np.arange(24)\n",
    "a.ndim"
   ]
  },
  {
   "cell_type": "code",
   "execution_count": 19,
   "id": "efdd3511-b7cb-4829-ad5c-b8232fb254ef",
   "metadata": {},
   "outputs": [
    {
     "name": "stdout",
     "output_type": "stream",
     "text": [
      "[[3]\n",
      " [5]\n",
      " [7]]\n"
     ]
    }
   ],
   "source": [
    "import numpy as np\n",
    "a=np.arange(5,dtype=float)\n",
    "print(x)"
   ]
  },
  {
   "cell_type": "code",
   "execution_count": 20,
   "id": "20e2d746-b408-463d-8638-70551691010b",
   "metadata": {},
   "outputs": [
    {
     "ename": "AttributeError",
     "evalue": "module 'numpy' has no attribute 'arrange'",
     "output_type": "error",
     "traceback": [
      "\u001b[1;31m---------------------------------------------------------------------------\u001b[0m",
      "\u001b[1;31mAttributeError\u001b[0m                            Traceback (most recent call last)",
      "Cell \u001b[1;32mIn[20], line 3\u001b[0m\n\u001b[0;32m      1\u001b[0m \u001b[38;5;66;03m# start and stop parameters set\u001b[39;00m\n\u001b[0;32m      2\u001b[0m \u001b[38;5;28;01mimport\u001b[39;00m \u001b[38;5;21;01mnumpy\u001b[39;00m \u001b[38;5;28;01mas\u001b[39;00m \u001b[38;5;21;01mnp\u001b[39;00m\n\u001b[1;32m----> 3\u001b[0m x\u001b[38;5;241m=\u001b[39mnp\u001b[38;5;241m.\u001b[39marrange(\u001b[38;5;241m10\u001b[39m,\u001b[38;5;241m20\u001b[39m,\u001b[38;5;241m2\u001b[39m)\n\u001b[0;32m      4\u001b[0m \u001b[38;5;28mprint\u001b[39m(a)\n",
      "File \u001b[1;32m~\\anaconda3\\Lib\\site-packages\\numpy\\__init__.py:333\u001b[0m, in \u001b[0;36m__getattr__\u001b[1;34m(attr)\u001b[0m\n\u001b[0;32m    330\u001b[0m     \u001b[38;5;124m\"\u001b[39m\u001b[38;5;124mRemoved in NumPy 1.25.0\u001b[39m\u001b[38;5;124m\"\u001b[39m\n\u001b[0;32m    331\u001b[0m     \u001b[38;5;28;01mraise\u001b[39;00m \u001b[38;5;167;01mRuntimeError\u001b[39;00m(\u001b[38;5;124m\"\u001b[39m\u001b[38;5;124mTester was removed in NumPy 1.25.\u001b[39m\u001b[38;5;124m\"\u001b[39m)\n\u001b[1;32m--> 333\u001b[0m \u001b[38;5;28;01mraise\u001b[39;00m \u001b[38;5;167;01mAttributeError\u001b[39;00m(\u001b[38;5;124m\"\u001b[39m\u001b[38;5;124mmodule \u001b[39m\u001b[38;5;132;01m{!r}\u001b[39;00m\u001b[38;5;124m has no attribute \u001b[39m\u001b[38;5;124m\"\u001b[39m\n\u001b[0;32m    334\u001b[0m                      \u001b[38;5;124m\"\u001b[39m\u001b[38;5;132;01m{!r}\u001b[39;00m\u001b[38;5;124m\"\u001b[39m\u001b[38;5;241m.\u001b[39mformat(\u001b[38;5;18m__name__\u001b[39m, attr))\n",
      "\u001b[1;31mAttributeError\u001b[0m: module 'numpy' has no attribute 'arrange'"
     ]
    }
   ],
   "source": [
    "# start and stop parameters set\n",
    "import numpy as np\n",
    "x=np.arrange(10,20,2)\n",
    "print(a)"
   ]
  },
  {
   "cell_type": "code",
   "execution_count": null,
   "id": "7cb9d020-37c3-4bec-8715-fc69e7c0830c",
   "metadata": {},
   "outputs": [],
   "source": []
  }
 ],
 "metadata": {
  "kernelspec": {
   "display_name": "Python 3 (ipykernel)",
   "language": "python",
   "name": "python3"
  },
  "language_info": {
   "codemirror_mode": {
    "name": "ipython",
    "version": 3
   },
   "file_extension": ".py",
   "mimetype": "text/x-python",
   "name": "python",
   "nbconvert_exporter": "python",
   "pygments_lexer": "ipython3",
   "version": "3.11.7"
  }
 },
 "nbformat": 4,
 "nbformat_minor": 5
}
