{
 "cells": [
  {
   "cell_type": "code",
   "execution_count": 1,
   "id": "89958d04-cf0b-488a-8315-236cbfb4dd4b",
   "metadata": {},
   "outputs": [],
   "source": [
    "# placeholder argument"
   ]
  },
  {
   "cell_type": "code",
   "execution_count": 2,
   "id": "efa72194-144b-486b-8e88-7c81d3232e0b",
   "metadata": {},
   "outputs": [
    {
     "name": "stdout",
     "output_type": "stream",
     "text": [
      "1100\n",
      "1300\n",
      "69\n"
     ]
    }
   ],
   "source": [
    "def sums(a,b=400,c=600):\n",
    "    return a+b+c\n",
    "print(sums(100))\n",
    "print(sums(200,500))\n",
    "print(sums(12,23,34))"
   ]
  },
  {
   "cell_type": "code",
   "execution_count": 7,
   "id": "033c9540-5538-4363-9336-bb2ef618b63f",
   "metadata": {},
   "outputs": [
    {
     "name": "stdout",
     "output_type": "stream",
     "text": [
      "1600\n",
      "1600\n",
      "5100\n"
     ]
    }
   ],
   "source": [
    "def addition(a,b=700,c=600):\n",
    "    return a+b+c\n",
    "print(addition(300))\n",
    "print(addition(a=400,c=500))\n",
    "print(addition(100,2000,3000))"
   ]
  },
  {
   "cell_type": "code",
   "execution_count": null,
   "id": "5806ebfc-38b6-44ee-a947-6fb2bff78e26",
   "metadata": {},
   "outputs": [],
   "source": [
    "def hello(name,age=29,gender=\"male\"):\n",
    "    return(\"my name is{} and age is {} and gender "
   ]
  }
 ],
 "metadata": {
  "kernelspec": {
   "display_name": "Python 3 (ipykernel)",
   "language": "python",
   "name": "python3"
  },
  "language_info": {
   "codemirror_mode": {
    "name": "ipython",
    "version": 3
   },
   "file_extension": ".py",
   "mimetype": "text/x-python",
   "name": "python",
   "nbconvert_exporter": "python",
   "pygments_lexer": "ipython3",
   "version": "3.11.7"
  }
 },
 "nbformat": 4,
 "nbformat_minor": 5
}
