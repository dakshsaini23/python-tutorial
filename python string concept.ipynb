{
 "cells": [
  {
   "cell_type": "code",
   "execution_count": 12,
   "id": "ac02a263-f503-4cdb-82d3-aa8139db0532",
   "metadata": {},
   "outputs": [
    {
     "ename": "SyntaxError",
     "evalue": "invalid syntax (2814481872.py, line 2)",
     "output_type": "error",
     "traceback": [
      "\u001b[1;36m  Cell \u001b[1;32mIn[12], line 2\u001b[1;36m\u001b[0m\n\u001b[1;33m    In Python, string is an immutable sequence data type. It is the sequence of Unicode characters wrapped inside single, double, or triple quotes.\u001b[0m\n\u001b[1;37m       ^\u001b[0m\n\u001b[1;31mSyntaxError\u001b[0m\u001b[1;31m:\u001b[0m invalid syntax\n"
     ]
    }
   ],
   "source": [
    "# Python - String\n",
    "In Python, string is an immutable sequence data type. It is the sequence of Unicode characters wrapped inside single, double, or triple quotes.\n",
    "\n",
    "'This is a string in Python' # string in single quotes`\n",
    "\"This is a string in Python\" # string in double quotes\n",
    "'''This is a string in Python''' # string in triple quotes\n",
    "\"\"\"This is a string in Python\"\"\" # string in triple double-quotes"
   ]
  },
  {
   "cell_type": "code",
   "execution_count": 1,
   "id": "e8a7f09c-c275-49b9-b8c2-36794f1a277d",
   "metadata": {},
   "outputs": [
    {
     "name": "stdout",
     "output_type": "stream",
     "text": [
      "this is string in python\n"
     ]
    }
   ],
   "source": [
    "str='this is string in python'\n",
    "print(str)"
   ]
  },
  {
   "cell_type": "code",
   "execution_count": 5,
   "id": "49d69e08-d8af-44e4-8f60-e09cf72fe337",
   "metadata": {},
   "outputs": [
    {
     "name": "stdout",
     "output_type": "stream",
     "text": [
      "this is string in python\n"
     ]
    }
   ],
   "source": [
    "str2=\"this is string in python\"\n",
    "print(str2)"
   ]
  },
  {
   "cell_type": "code",
   "execution_count": 9,
   "id": "0445e8f8-d2ee-45ba-8928-106a923a1db4",
   "metadata": {},
   "outputs": [
    {
     "name": "stdout",
     "output_type": "stream",
     "text": [
      "this is\n",
      "the first\n",
      "multi line string\n",
      "\n"
     ]
    }
   ],
   "source": [
    "str1='''this is\n",
    "the first\n",
    "multi line string\n",
    "'''\n",
    "print(str1)"
   ]
  },
  {
   "cell_type": "code",
   "execution_count": 10,
   "id": "8a1f7d01-483b-425e-b5af-148def37f4ef",
   "metadata": {},
   "outputs": [
    {
     "name": "stdout",
     "output_type": "stream",
     "text": [
      "this is\n",
      "the second\n",
      "multi  line\n",
      "string\n"
     ]
    }
   ],
   "source": [
    "str2=\"\"\"this is\n",
    "the second\n",
    "multi  line\n",
    "string\"\"\"\n",
    "print(str2)"
   ]
  },
  {
   "cell_type": "code",
   "execution_count": 14,
   "id": "b79ddd50-9b2f-4c28-bb7e-a321caa59cda",
   "metadata": {},
   "outputs": [
    {
     "name": "stdout",
     "output_type": "stream",
     "text": [
      "5\n"
     ]
    }
   ],
   "source": [
    "greet='hello'\n",
    "n=len(greet) #returns 5\n",
    "print(n)"
   ]
  },
  {
   "cell_type": "code",
   "execution_count": 16,
   "id": "cacebd5a-f4ad-49f2-a39d-ee0c927aea63",
   "metadata": {},
   "outputs": [
    {
     "name": "stdout",
     "output_type": "stream",
     "text": [
      "h\n",
      "e\n",
      "l\n",
      "l\n",
      "o\n"
     ]
    },
    {
     "ename": "IndexError",
     "evalue": "string index out of range",
     "output_type": "error",
     "traceback": [
      "\u001b[1;31m---------------------------------------------------------------------------\u001b[0m",
      "\u001b[1;31mIndexError\u001b[0m                                Traceback (most recent call last)",
      "Cell \u001b[1;32mIn[16], line 9\u001b[0m\n\u001b[0;32m      7\u001b[0m \u001b[38;5;28mprint\u001b[39m(greet[\u001b[38;5;241m3\u001b[39m])\n\u001b[0;32m      8\u001b[0m \u001b[38;5;28mprint\u001b[39m(greet[\u001b[38;5;241m4\u001b[39m])\n\u001b[1;32m----> 9\u001b[0m \u001b[38;5;28mprint\u001b[39m(greet[\u001b[38;5;241m5\u001b[39m])\n",
      "\u001b[1;31mIndexError\u001b[0m: string index out of range"
     ]
    }
   ],
   "source": [
    "# A sequence-------is defined as an ordered collection of items. Hence, a string is an ordered collection of characters.\n",
    "# The sequence uses an index, starting with zero to fetch a certain item (a character in case of a string) from it\n",
    "greet='hello'\n",
    "print(greet[0])\n",
    "print(greet[1])\n",
    "print(greet[2])\n",
    "print(greet[3])\n",
    "print(greet[4])\n",
    "print(greet[5]) #indexerror: string index out of range"
   ]
  },
  {
   "cell_type": "code",
   "execution_count": 17,
   "id": "5fed62cd-5f47-4e5e-b5f0-ebccd804dec7",
   "metadata": {},
   "outputs": [
    {
     "name": "stdout",
     "output_type": "stream",
     "text": [
      "h\n",
      "e\n",
      "l\n",
      "l\n",
      "o\n",
      "h\n"
     ]
    }
   ],
   "source": [
    "greet='hello'\n",
    "print(greet[-5])\n",
    "print(greet[-4])\n",
    "print(greet[-3])\n",
    "print(greet[-2])\n",
    "print(greet[-1])\n",
    "print(greet[0])"
   ]
  },
  {
   "cell_type": "code",
   "execution_count": 18,
   "id": "62c4df43-f681-478f-9f2e-15cc8088e1e6",
   "metadata": {},
   "outputs": [
    {
     "ename": "TypeError",
     "evalue": "'str' object does not support item assignment",
     "output_type": "error",
     "traceback": [
      "\u001b[1;31m---------------------------------------------------------------------------\u001b[0m",
      "\u001b[1;31mTypeError\u001b[0m                                 Traceback (most recent call last)",
      "Cell \u001b[1;32mIn[18], line 4\u001b[0m\n\u001b[0;32m      1\u001b[0m \u001b[38;5;66;03m# The string is an immutable object. Hence,\u001b[39;00m\n\u001b[0;32m      2\u001b[0m \u001b[38;5;66;03m# it is not possible to modify it. The attempt to assign different characters at a certain index results in errors.\u001b[39;00m\n\u001b[0;32m      3\u001b[0m greet\u001b[38;5;241m=\u001b[39m\u001b[38;5;124m'\u001b[39m\u001b[38;5;124mhello\u001b[39m\u001b[38;5;124m'\u001b[39m\n\u001b[1;32m----> 4\u001b[0m greet[\u001b[38;5;241m0\u001b[39m]\u001b[38;5;241m=\u001b[39m\u001b[38;5;124m'\u001b[39m\u001b[38;5;124mA\u001b[39m\u001b[38;5;124m'\u001b[39m \u001b[38;5;66;03m# type error:'str' object does not support item\u001b[39;00m\n\u001b[0;32m      5\u001b[0m assignment\n",
      "\u001b[1;31mTypeError\u001b[0m: 'str' object does not support item assignment"
     ]
    }
   ],
   "source": [
    "# The string is an immutable object. Hence,\n",
    "# it is not possible to modify it. The attempt to assign different characters at a certain index results in errors.\n",
    "greet='hello'\n",
    "greet[0]='A' # type error:'str' object does not support item\n",
    "assignment"
   ]
  },
  {
   "cell_type": "code",
   "execution_count": 1,
   "id": "39ed92b5-ade1-4471-bb7d-b59703df74d1",
   "metadata": {},
   "outputs": [
    {
     "name": "stdout",
     "output_type": "stream",
     "text": [
      "<class 'str'>\n"
     ]
    }
   ],
   "source": [
    "# use the str() function to convert a number to a string\n",
    "#example:str()\n",
    "s=str(100)\n",
    "print(type(s)) "
   ]
  },
  {
   "cell_type": "code",
   "execution_count": 2,
   "id": "e39b8a25-f5dc-484b-ace5-9148d7fff104",
   "metadata": {},
   "outputs": [
    {
     "name": "stdout",
     "output_type": "stream",
     "text": [
      "-10\n"
     ]
    }
   ],
   "source": [
    "s=str(-10)\n",
    "print(s)"
   ]
  },
  {
   "cell_type": "code",
   "execution_count": 5,
   "id": "08210561-64b7-44cb-9336-f9e6f642ed92",
   "metadata": {},
   "outputs": [
    {
     "name": "stdout",
     "output_type": "stream",
     "text": [
      "True\n"
     ]
    }
   ],
   "source": [
    "s=str(True)\n",
    "print(s)"
   ]
  },
  {
   "cell_type": "code",
   "execution_count": 11,
   "id": "8704fcfc-67cc-42f5-9aa9-c848183eb2f3",
   "metadata": {},
   "outputs": [
    {
     "name": "stdout",
     "output_type": "stream",
     "text": [
      "Number of occurrences of \"Madrid\": 1\n",
      "Number of occurences of \"madrid\": 0\n"
     ]
    }
   ],
   "source": [
    "# Python capitalize() Method\n",
    "# The capitalize() method returns the copy of the string with its first character capitalized and the rest of the letters lowercased.\n",
    "\n",
    "\n",
    "# Syntax:------# string.capitalize() \n",
    "mystr='madrid is a best institute for data science learning'\n",
    "total=mystr.count('madrid')\n",
    "print('Number of occurrences of \"Madrid\":',total)\n",
    "total=mystr.count('Madrid')\n",
    "print('Number of occurences of \"madrid\":',total)"
   ]
  },
  {
   "cell_type": "code",
   "execution_count": 12,
   "id": "ea8b6d78-2b8c-49e9-82f9-f52299f1bd13",
   "metadata": {},
   "outputs": [
    {
     "name": "stdout",
     "output_type": "stream",
     "text": [
      "False\n",
      "False\n",
      "False\n",
      "False\n",
      "False\n"
     ]
    }
   ],
   "source": [
    "#Python String endswith() Method\n",
    "# The endswith() function returns True if a string ends with the specified suffix (case-sensitive), otherwise returns False.\n",
    "print(mystr.endswith(','))\n",
    "print(mystr.endswith('age.'))\n",
    "print(mystr.endswith('language.'))\n",
    "print(mystr.endswith('programming language.'))\n",
    "print(mystr.endswith('age'))"
   ]
  },
  {
   "cell_type": "code",
   "execution_count": null,
   "id": "4bdb2381-f112-46e2-807f-13eed9ee213c",
   "metadata": {},
   "outputs": [],
   "source": []
  }
 ],
 "metadata": {
  "kernelspec": {
   "display_name": "Python 3 (ipykernel)",
   "language": "python",
   "name": "python3"
  },
  "language_info": {
   "codemirror_mode": {
    "name": "ipython",
    "version": 3
   },
   "file_extension": ".py",
   "mimetype": "text/x-python",
   "name": "python",
   "nbconvert_exporter": "python",
   "pygments_lexer": "ipython3",
   "version": "3.11.7"
  }
 },
 "nbformat": 4,
 "nbformat_minor": 5
}
