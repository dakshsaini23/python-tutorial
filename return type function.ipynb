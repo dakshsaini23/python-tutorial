{
 "cells": [
  {
   "cell_type": "markdown",
   "id": "b5323f1e-50d1-4d08-b74b-b51a06e8c75c",
   "metadata": {},
   "source": [
    "def function_name(arg1,arg2,....):\n",
    "    logic\n",
    "    return value/values\n",
    "var=function_name(arg1,arg2..)\n",
    "print(var)\n",
    "print(function_name(arg1,arg2))"
   ]
  },
  {
   "cell_type": "code",
   "execution_count": 1,
   "id": "1336c2a1-d1f5-409d-840f-c8ae88f16e35",
   "metadata": {},
   "outputs": [
    {
     "name": "stdout",
     "output_type": "stream",
     "text": [
      "the sum is 112\n"
     ]
    }
   ],
   "source": [
    "def addition(a,b):\n",
    "    return a+b\n",
    "print(\"the sum is\",addition(67,45))"
   ]
  },
  {
   "cell_type": "code",
   "execution_count": 3,
   "id": "6a47d7c3-ff22-4d8d-9592-eecb6779e781",
   "metadata": {},
   "outputs": [
    {
     "name": "stdout",
     "output_type": "stream",
     "text": [
      "(46, 22, 408, 2.8333333333333335, 10)\n",
      "<class 'tuple'>\n"
     ]
    }
   ],
   "source": [
    "def mathop(a,b):\n",
    "    return a+b,a-b,a*b,a/b,a%b\n",
    "res=mathop(34,12)\n",
    "print(res)\n",
    "print(type(res))"
   ]
  },
  {
   "cell_type": "code",
   "execution_count": 4,
   "id": "fbbdc17a-b179-4a32-a8df-f7d173d3cc95",
   "metadata": {},
   "outputs": [
    {
     "name": "stdout",
     "output_type": "stream",
     "text": [
      "add 46\n",
      "sub 22\n",
      "pro 408\n",
      "div 2.8333333333333335\n",
      "mod 10\n"
     ]
    }
   ],
   "source": [
    "def mathop(a,b):\n",
    "    return a+b,a-b,a*b,a/b,a%b\n",
    "x,y,z,w,r=mathop(34,12)\n",
    "print(\"add\",x)\n",
    "print(\"sub\",y)\n",
    "print(\"pro\",z)\n",
    "print(\"div\",w)\n",
    "print(\"mod\",r)"
   ]
  },
  {
   "cell_type": "code",
   "execution_count": 6,
   "id": "912df246-2206-4add-b0f4-d77bbadde07b",
   "metadata": {},
   "outputs": [
    {
     "name": "stdout",
     "output_type": "stream",
     "text": [
      "odd number\n"
     ]
    }
   ],
   "source": [
    "def check(n):\n",
    "    if n%2==2:\n",
    "        return \"even number\"\n",
    "    else:\n",
    "        return \"odd number\"\n",
    "print(check(56))"
   ]
  },
  {
   "cell_type": "code",
   "execution_count": 11,
   "id": "401f7a2e-b121-4c52-99b2-91ac31fb3eec",
   "metadata": {},
   "outputs": [
    {
     "name": "stdout",
     "output_type": "stream",
     "text": [
      "the factorial is 120\n",
      "the factorial is 720\n"
     ]
    }
   ],
   "source": [
    "def factorial(n):\n",
    "    f=1\n",
    "    for i in range(1,n+1):\n",
    "        f=f*i\n",
    "    return f\n",
    "res=factorial(5)\n",
    "print(\"the factorial is\",res)\n",
    "\n",
    "print(\"the factorial is\",factorial(6))"
   ]
  },
  {
   "cell_type": "code",
   "execution_count": null,
   "id": "97b49e70-aecc-4e48-84a6-d626d8fe1954",
   "metadata": {},
   "outputs": [],
   "source": []
  }
 ],
 "metadata": {
  "kernelspec": {
   "display_name": "Python 3 (ipykernel)",
   "language": "python",
   "name": "python3"
  },
  "language_info": {
   "codemirror_mode": {
    "name": "ipython",
    "version": 3
   },
   "file_extension": ".py",
   "mimetype": "text/x-python",
   "name": "python",
   "nbconvert_exporter": "python",
   "pygments_lexer": "ipython3",
   "version": "3.11.7"
  }
 },
 "nbformat": 4,
 "nbformat_minor": 5
}
