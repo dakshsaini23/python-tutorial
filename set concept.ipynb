{
 "cells": [
  {
   "cell_type": "code",
   "execution_count": null,
   "id": "f45909a3-40db-410a-8d2d-c4fbdd8325d2",
   "metadata": {},
   "outputs": [],
   "source": [
    "# Python - Set\n",
    "A set is a mutable collection of distinct hashable objects, same as the list and tuple. It is an unordered collection of objects, meaning it does not record element position or order of insertion and so cannot access elements using indexes.\n",
    "\n",
    "The set is a Python implementation of the set in Mathematics. A set object has suitable methods to perform mathematical set operations like union, intersection, difference, etc.\n",
    "\n",
    "A set object contains one or more items, not necessarily of the same type, which are separated by a comma and enclosed in curly brackets {}. The following defines a set object with even numbers."
   ]
  },
  {
   "cell_type": "code",
   "execution_count": 3,
   "id": "419ac78e-31c0-4d17-b50d-b450cba10e7c",
   "metadata": {},
   "outputs": [
    {
     "name": "stdout",
     "output_type": "stream",
     "text": [
      "{2, 4, 6, 8, 10}\n"
     ]
    }
   ],
   "source": [
    "even_nums = {2,2,4,6,8,10}\n",
    "print(even_nums)"
   ]
  },
  {
   "cell_type": "code",
   "execution_count": 5,
   "id": "8b716931-54d5-4f0f-8ca8-ea399ee4990a",
   "metadata": {},
   "outputs": [
    {
     "name": "stdout",
     "output_type": "stream",
     "text": [
      "{'steve', 1, 10.5}\n"
     ]
    }
   ],
   "source": [
    "emp={1,'steve',10.5,True}\n",
    "print(emp)"
   ]
  },
  {
   "cell_type": "code",
   "execution_count": 6,
   "id": "092393de-1fe2-423c-ad44-3e50791f17d1",
   "metadata": {},
   "outputs": [
    {
     "name": "stdout",
     "output_type": "stream",
     "text": [
      "{1, 2, 3, 4, 5}\n"
     ]
    }
   ],
   "source": [
    "nums={1,2,2,3,4,4,5,}\n",
    "print(nums)"
   ]
  },
  {
   "cell_type": "code",
   "execution_count": null,
   "id": "d967ab9c-17ad-4025-b0ad-98f5ebb6c8a3",
   "metadata": {},
   "outputs": [],
   "source": [
    "# A set doesn't store duplicate objects. Even if an object is added more than once inside the curly brackets, only one copy is held in the set object. Hence, indexing and slicing operations cannot be done on a set object.\n",
    "The order of elements in the set is not necessarily the same as the order given at the time of assignment. Python optimizes the structure of a "
   ]
  },
  {
   "cell_type": "code",
   "execution_count": 7,
   "id": "1ac8843e-52a5-4de6-96a5-6096d355fb18",
   "metadata": {},
   "outputs": [
    {
     "name": "stdout",
     "output_type": "stream",
     "text": [
      "{(10, 10), 10, 20}\n"
     ]
    }
   ],
   "source": [
    "myset={(10,10),10,20}\n",
    "print(myset)"
   ]
  },
  {
   "cell_type": "code",
   "execution_count": 8,
   "id": "d22b50e5-740d-4f71-928d-da903df90488",
   "metadata": {},
   "outputs": [
    {
     "ename": "TypeError",
     "evalue": "unhashable type: 'list'",
     "output_type": "error",
     "traceback": [
      "\u001b[1;31m---------------------------------------------------------------------------\u001b[0m",
      "\u001b[1;31mTypeError\u001b[0m                                 Traceback (most recent call last)",
      "Cell \u001b[1;32mIn[8], line 1\u001b[0m\n\u001b[1;32m----> 1\u001b[0m myset\u001b[38;5;241m=\u001b[39m{[\u001b[38;5;241m10\u001b[39m,\u001b[38;5;241m10\u001b[39m],\u001b[38;5;241m10\u001b[39m,\u001b[38;5;241m20\u001b[39m}\n\u001b[0;32m      2\u001b[0m \u001b[38;5;28mprint\u001b[39m(mystr)\n",
      "\u001b[1;31mTypeError\u001b[0m: unhashable type: 'list'"
     ]
    }
   ],
   "source": [
    "myset={[10,10],10,20}\n",
    "print(mystr)"
   ]
  },
  {
   "cell_type": "code",
   "execution_count": 9,
   "id": "533cecb0-52a9-4759-8cbb-ea8e83456517",
   "metadata": {},
   "outputs": [
    {
     "ename": "TypeError",
     "evalue": "unhashable type: 'set'",
     "output_type": "error",
     "traceback": [
      "\u001b[1;31m---------------------------------------------------------------------------\u001b[0m",
      "\u001b[1;31mTypeError\u001b[0m                                 Traceback (most recent call last)",
      "Cell \u001b[1;32mIn[9], line 1\u001b[0m\n\u001b[1;32m----> 1\u001b[0m myset\u001b[38;5;241m=\u001b[39m{{\u001b[38;5;241m10\u001b[39m,\u001b[38;5;241m10\u001b[39m},\u001b[38;5;241m10\u001b[39m,\u001b[38;5;241m20\u001b[39m}\n",
      "\u001b[1;31mTypeError\u001b[0m: unhashable type: 'set'"
     ]
    }
   ],
   "source": [
    "myset={{10,10},10,20}"
   ]
  },
  {
   "cell_type": "code",
   "execution_count": 10,
   "id": "d7db99ed-0de6-4d0c-9fef-016c07afa6a8",
   "metadata": {},
   "outputs": [
    {
     "name": "stdout",
     "output_type": "stream",
     "text": [
      "<class 'dict'>\n"
     ]
    }
   ],
   "source": [
    "emp={} # create an empty dictionary\n",
    "print(type(emp))"
   ]
  },
  {
   "cell_type": "code",
   "execution_count": 11,
   "id": "257ea955-039b-441b-81d6-82dd484d086d",
   "metadata": {},
   "outputs": [
    {
     "name": "stdout",
     "output_type": "stream",
     "text": [
      "<class 'set'>\n"
     ]
    }
   ],
   "source": [
    "s=set()\n",
    "print(type(s))"
   ]
  },
  {
   "cell_type": "code",
   "execution_count": null,
   "id": "d42742af-a4f3-4e75-84c0-88bcb8a7166c",
   "metadata": {},
   "outputs": [],
   "source": [
    "# The set() function also use to convert string, tuple, or dictionary object to a set object, as shown below.\n",
    "\n",
    "# Example: Convert Sequence to Set"
   ]
  },
  {
   "cell_type": "code",
   "execution_count": 12,
   "id": "e9e9dc46-79d2-4a77-925f-e15853996664",
   "metadata": {},
   "outputs": [
    {
     "name": "stdout",
     "output_type": "stream",
     "text": [
      "{'l', 'o', 'h', 'e'}\n"
     ]
    }
   ],
   "source": [
    "s=set('hello')\n",
    "print(s)"
   ]
  },
  {
   "cell_type": "code",
   "execution_count": 14,
   "id": "48e720e1-5154-43c9-b684-b4ddc4a7f6a6",
   "metadata": {},
   "outputs": [
    {
     "name": "stdout",
     "output_type": "stream",
     "text": [
      "{1, 2, 3, 4, 5}\n"
     ]
    }
   ],
   "source": [
    "s=set((1,2,3,4,5))\n",
    "print(s)"
   ]
  },
  {
   "cell_type": "code",
   "execution_count": 15,
   "id": "9d61d5d0-56b4-4f70-8679-71cdc8b2d8b4",
   "metadata": {},
   "outputs": [
    {
     "name": "stdout",
     "output_type": "stream",
     "text": [
      "{1, 2}\n"
     ]
    }
   ],
   "source": [
    "d={1:'One',2:'Two'}\n",
    "s=set(d)\n",
    "print(s)"
   ]
  },
  {
   "cell_type": "code",
   "execution_count": null,
   "id": "a4c9ecf4-3853-431a-9aea-b385cf74be1e",
   "metadata": {},
   "outputs": [],
   "source": [
    "# Modify Set Elements\n",
    "# Use built-in set functions add(), remove() or update() methods to modify set collection.\n",
    "# Example:"
   ]
  },
  {
   "cell_type": "code",
   "execution_count": 17,
   "id": "5e9f4810-9877-4021-87c1-048790c1a2e5",
   "metadata": {},
   "outputs": [
    {
     "name": "stdout",
     "output_type": "stream",
     "text": [
      "{10, 20, 30}\n"
     ]
    }
   ],
   "source": [
    "s=set()\n",
    "s.add(10)\n",
    "s.add(20)\n",
    "s.add(30)\n",
    "print(s)"
   ]
  },
  {
   "cell_type": "code",
   "execution_count": 18,
   "id": "8871113f-a461-45e4-aad4-fcc8d9588987",
   "metadata": {},
   "outputs": [
    {
     "name": "stdout",
     "output_type": "stream",
     "text": [
      "{2, 3, 20, 5, 6, 10, 30}\n"
     ]
    }
   ],
   "source": [
    "primeNums={2,3,5,6}\n",
    "s.update(primeNums)\n",
    "print(s)"
   ]
  },
  {
   "cell_type": "code",
   "execution_count": 19,
   "id": "f0826a7c-08b3-4541-81bc-5303430f7da4",
   "metadata": {},
   "outputs": [
    {
     "name": "stdout",
     "output_type": "stream",
     "text": [
      "{3, 20, 5, 6, 10, 30}\n"
     ]
    }
   ],
   "source": [
    "s.remove(2)\n",
    "print(s)"
   ]
  },
  {
   "cell_type": "code",
   "execution_count": null,
   "id": "06c26dfc-d70a-493f-974b-aa5103521592",
   "metadata": {},
   "outputs": [],
   "source": [
    "# Python Set clear() Method\n",
    "# The set.clear() method removes all the elements from the set.\n",
    "\n",
    "# Syntax: set.clear()"
   ]
  },
  {
   "cell_type": "code",
   "execution_count": 20,
   "id": "fd204b37-335f-4581-b765-41418512d1c0",
   "metadata": {},
   "outputs": [
    {
     "name": "stdout",
     "output_type": "stream",
     "text": [
      "set()\n"
     ]
    }
   ],
   "source": [
    "langs={'python','C++','c','go'}\n",
    "langs.clear()\n",
    "print(langs)"
   ]
  },
  {
   "cell_type": "code",
   "execution_count": 24,
   "id": "c08fee21-0135-45d1-ad44-96efb651abf7",
   "metadata": {},
   "outputs": [
    {
     "name": "stdout",
     "output_type": "stream",
     "text": [
      "original set: {'python', 'java', 'C++'}\n",
      "copied set: {'python', 'java', 'C++'}\n"
     ]
    }
   ],
   "source": [
    "# python set copy() method---- the set.copy methd returns a shallow copy of the set \n",
    "# syntax:\n",
    "# set.copy()\n",
    "langs={'python','C++','java'}\n",
    "copiedlangs=langs.copy()\n",
    "print(\"original set:\",langs)\n",
    "print(\"copied set:\",copiedlangs)"
   ]
  },
  {
   "cell_type": "code",
   "execution_count": 25,
   "id": "740c26e0-f6ae-44fc-a540-70f97250db1a",
   "metadata": {},
   "outputs": [
    {
     "name": "stdout",
     "output_type": "stream",
     "text": [
      "A-B {1, 2, 3}\n"
     ]
    }
   ],
   "source": [
    "A={1,2,3,4,5,6,7,8}\n",
    "B={4,5,6,7,8,9,10}\n",
    "print(\"A-B\",A-B)"
   ]
  },
  {
   "cell_type": "code",
   "execution_count": 26,
   "id": "58fc9da8-84fc-4c2e-8f9f-87c607d7b65c",
   "metadata": {},
   "outputs": [
    {
     "name": "stdout",
     "output_type": "stream",
     "text": [
      "B-A {9, 10}\n"
     ]
    }
   ],
   "source": [
    "A={1,2,3,4,5,6,7,8}\n",
    "B={4,5,6,7,8,9,10}\n",
    "print(\"B-A\",B-A)"
   ]
  },
  {
   "cell_type": "code",
   "execution_count": 29,
   "id": "9f6eaa4b-5c5d-44ab-a453-eb43617b2b9c",
   "metadata": {},
   "outputs": [
    {
     "name": "stdout",
     "output_type": "stream",
     "text": [
      "nums1-nums2: {1, 2, 3}\n",
      "nums2-nums1: {8, 6, 7}\n"
     ]
    }
   ],
   "source": [
    "nums1={1,2,3,4,5}\n",
    "nums2={4,5,6,7,8,8}\n",
    "nums3=nums1.difference(nums2)\n",
    "nums4=nums2.difference(nums1)\n",
    "print(\"nums1-nums2:\",nums3)\n",
    "print(\"nums2-nums1:\",nums4)\n",
    "    "
   ]
  },
  {
   "cell_type": "code",
   "execution_count": 35,
   "id": "a6e23c69-f163-48d3-95bf-d9bf974c210c",
   "metadata": {},
   "outputs": [
    {
     "name": "stdout",
     "output_type": "stream",
     "text": [
      "common elements: {3, 5}\n"
     ]
    }
   ],
   "source": [
    "#Python Set intersection() Method\n",
    "#The set.intersection() method returns a new set with the elements that are common in the given sets.\n",
    "# synatx\n",
    "#set.intersection(*other_sets),\n",
    "x={1,2,3,4,5}\n",
    "y={1,3,5,7,9}\n",
    "z={2,3,5,7}\n",
    "w=x.intersection(y,z)\n",
    "print(\"common elements:\",w)"
   ]
  },
  {
   "cell_type": "code",
   "execution_count": 37,
   "id": "b993ae6b-195b-4ed3-b2a9-d6a92f415767",
   "metadata": {},
   "outputs": [
    {
     "name": "stdout",
     "output_type": "stream",
     "text": [
      "the union of two set is: {1, 2, 3, 4, 5, 6, 7, 8}\n"
     ]
    }
   ],
   "source": [
    "#Python Set union() Method\n",
    "#he set.union() method returns a new set with distinct elements from all the given sets.\n",
    "\n",
    "#Syntax:\n",
    "#A.union(*other_sets)\n",
    "nums1={1,2,2,3,4,5}\n",
    "nums2={4,5,6,7,7,8}\n",
    "distinct_nums=nums1.union(nums2)\n",
    "print(\"the union of two set is:\",distinct_nums)"
   ]
  },
  {
   "cell_type": "code",
   "execution_count": 39,
   "id": "2512f212-175f-4c0f-920d-519ebe0aa8b8",
   "metadata": {},
   "outputs": [],
   "source": [
    "# DIFFERCENE BETWEEN REMOVE AND DISCARD\n",
    "myset={'eight','five','two','one','seven','six','three','two'}"
   ]
  },
  {
   "cell_type": "code",
   "execution_count": 41,
   "id": "4e01af5a-73c7-4afe-9494-1a56b2ca45fa",
   "metadata": {},
   "outputs": [
    {
     "ename": "KeyError",
     "evalue": "'nine'",
     "output_type": "error",
     "traceback": [
      "\u001b[1;31m---------------------------------------------------------------------------\u001b[0m",
      "\u001b[1;31mKeyError\u001b[0m                                  Traceback (most recent call last)",
      "Cell \u001b[1;32mIn[41], line 1\u001b[0m\n\u001b[1;32m----> 1\u001b[0m myset\u001b[38;5;241m.\u001b[39mremove(\u001b[38;5;124m'\u001b[39m\u001b[38;5;124mnine\u001b[39m\u001b[38;5;124m'\u001b[39m)\n",
      "\u001b[1;31mKeyError\u001b[0m: 'nine'"
     ]
    }
   ],
   "source": [
    "myset.remove('nine')"
   ]
  },
  {
   "cell_type": "code",
   "execution_count": 42,
   "id": "0f33c60e-0435-460f-9c51-67f9f48d879c",
   "metadata": {},
   "outputs": [],
   "source": [
    "myset.discard('nine')"
   ]
  },
  {
   "cell_type": "code",
   "execution_count": 43,
   "id": "b2e5d1c6-25ac-42c6-8559-3c48520f9f65",
   "metadata": {},
   "outputs": [],
   "source": [
    "# when non existing elements removed my remove it shows error meanwhile when we remove it through discard it will  not give any error or smtg because it will ignore the command if it's the non existing element"
   ]
  },
  {
   "cell_type": "code",
   "execution_count": 44,
   "id": "0d9e3d4a-df19-4ea7-aa0b-dc2a9b4cbcce",
   "metadata": {},
   "outputs": [],
   "source": [
    "A={1,2,3,4,5}\n",
    "B={4,5,6,7,8}\n",
    "C={8,9,10}"
   ]
  },
  {
   "cell_type": "code",
   "execution_count": 45,
   "id": "41f129cd-776c-41be-aaae-707373458dcf",
   "metadata": {},
   "outputs": [
    {
     "data": {
      "text/plain": [
       "{1, 2, 3, 4, 5, 6, 7, 8}"
      ]
     },
     "execution_count": 45,
     "metadata": {},
     "output_type": "execute_result"
    }
   ],
   "source": [
    "A|B"
   ]
  },
  {
   "cell_type": "code",
   "execution_count": 47,
   "id": "d47cd4df-b530-4359-b795-fc4044c34306",
   "metadata": {},
   "outputs": [
    {
     "data": {
      "text/plain": [
       "{1, 2, 3, 4, 5, 6, 7, 8}"
      ]
     },
     "execution_count": 47,
     "metadata": {},
     "output_type": "execute_result"
    }
   ],
   "source": [
    "A.union(B)"
   ]
  },
  {
   "cell_type": "code",
   "execution_count": 48,
   "id": "5d6e0e88-cff0-4304-97b4-eae031e74201",
   "metadata": {},
   "outputs": [
    {
     "data": {
      "text/plain": [
       "{1, 2, 3, 4, 5, 6, 7, 8, 9, 10}"
      ]
     },
     "execution_count": 48,
     "metadata": {},
     "output_type": "execute_result"
    }
   ],
   "source": [
    "A.union(B,C)"
   ]
  },
  {
   "cell_type": "code",
   "execution_count": null,
   "id": "f0028135-3e7a-41df-86fc-59c4f5c9c561",
   "metadata": {},
   "outputs": [],
   "source": []
  }
 ],
 "metadata": {
  "kernelspec": {
   "display_name": "Python 3 (ipykernel)",
   "language": "python",
   "name": "python3"
  },
  "language_info": {
   "codemirror_mode": {
    "name": "ipython",
    "version": 3
   },
   "file_extension": ".py",
   "mimetype": "text/x-python",
   "name": "python",
   "nbconvert_exporter": "python",
   "pygments_lexer": "ipython3",
   "version": "3.11.7"
  }
 },
 "nbformat": 4,
 "nbformat_minor": 5
}
